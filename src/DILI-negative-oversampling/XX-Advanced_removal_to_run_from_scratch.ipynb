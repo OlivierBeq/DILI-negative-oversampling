{
 "cells": [
  {
   "cell_type": "markdown",
   "source": [
    "**This Python notebook is intended to power users!**\n",
    "\n",
    "If you run it, all files requiring substantial compute resources will be erased."
   ],
   "metadata": {
    "collapsed": false
   },
   "id": "4696aef267976336"
  },
  {
   "cell_type": "code",
   "execution_count": 1,
   "id": "initial_id",
   "metadata": {
    "collapsed": true,
    "ExecuteTime": {
     "end_time": "2025-04-03T18:09:41.395593700Z",
     "start_time": "2025-04-03T18:09:34.898364200Z"
    }
   },
   "outputs": [],
   "source": [
    "import os\n",
    "answer = input(\"Are you sure you want to delete critical files for this work? They can only be computed with substantial compute resources!\")\n",
    "if answer.lower() in [\"y\",\"yes\"]:\n",
    "     from pathlib import Path\n",
    "     for fpath in Path('./data').rglob('*.*'):\n",
    "          if fpath.name not in ['Supp. File 1.xlsx', 'DILI_dataset_ECFP6_FCFP6.tsv', 'Papyrus_05-7_BioSpectra_protein-descriptors-ZscalesVanWesten.tsv.gz']:\n",
    "               fpath.unlink()\n",
    "else:\n",
    "     pass"
   ]
  }
 ],
 "metadata": {
  "kernelspec": {
   "display_name": "Python 3",
   "language": "python",
   "name": "python3"
  },
  "language_info": {
   "codemirror_mode": {
    "name": "ipython",
    "version": 2
   },
   "file_extension": ".py",
   "mimetype": "text/x-python",
   "name": "python",
   "nbconvert_exporter": "python",
   "pygments_lexer": "ipython2",
   "version": "2.7.6"
  }
 },
 "nbformat": 4,
 "nbformat_minor": 5
}
