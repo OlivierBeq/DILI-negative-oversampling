{
 "cells": [
  {
   "cell_type": "code",
   "execution_count": 1,
   "id": "initial_id",
   "metadata": {
    "collapsed": true,
    "ExecuteTime": {
     "end_time": "2025-04-14T14:19:58.585552900Z",
     "start_time": "2025-04-14T14:19:58.582084Z"
    }
   },
   "outputs": [],
   "source": [
    "import pandas as pd"
   ]
  },
  {
   "cell_type": "markdown",
   "source": [
    "Constants."
   ],
   "metadata": {
    "collapsed": false
   },
   "id": "3644bf2f78383acb"
  },
  {
   "cell_type": "code",
   "execution_count": 2,
   "outputs": [],
   "source": [
    "ROOT = '.'\n",
    "DATA_FOLDER = f'{ROOT}/data'\n",
    "OUT_FOLDER = f'{ROOT}/results'\n",
    "FILE = f'{DATA_FOLDER}/Supp. File 1.xlsx'"
   ],
   "metadata": {
    "collapsed": false,
    "ExecuteTime": {
     "end_time": "2025-04-14T14:19:58.597890500Z",
     "start_time": "2025-04-14T14:19:58.586551900Z"
    }
   },
   "id": "cd2e001f22c5a7af"
  },
  {
   "cell_type": "markdown",
   "source": [
    "Read input file."
   ],
   "metadata": {
    "collapsed": false
   },
   "id": "369bf79a6a800e6f"
  },
  {
   "cell_type": "code",
   "execution_count": 3,
   "outputs": [],
   "source": [
    "data = pd.read_excel(FILE, sheet_name='Original Dataset BioDescs')"
   ],
   "metadata": {
    "collapsed": false,
    "ExecuteTime": {
     "end_time": "2025-04-14T14:20:02.849570300Z",
     "start_time": "2025-04-14T14:19:58.598891900Z"
    }
   },
   "id": "edfd9643c7a52238"
  },
  {
   "cell_type": "code",
   "execution_count": 4,
   "outputs": [],
   "source": [
    "data = pd.concat([data[['InChIKey', 'Name', 'SMILES', 'Inclusion', 'CMAX_uM']],\n",
    "                  data.iloc[:, 5:].loc[:, data.iloc[:, 5:].apply(pd.Series.nunique) == 176]       \n",
    "                  ],\n",
    "                 axis=1)"
   ],
   "metadata": {
    "collapsed": false,
    "ExecuteTime": {
     "end_time": "2025-04-14T14:20:02.932683200Z",
     "start_time": "2025-04-14T14:20:02.850576200Z"
    }
   },
   "id": "88b76a4638b25597"
  },
  {
   "cell_type": "code",
   "execution_count": 5,
   "outputs": [],
   "source": [
    "labels = pd.read_excel(FILE, sheet_name='Original Dataset Labels', usecols=['InChIKey', 'binaryDILI'])"
   ],
   "metadata": {
    "collapsed": false,
    "ExecuteTime": {
     "end_time": "2025-04-14T14:20:03.107601600Z",
     "start_time": "2025-04-14T14:20:02.932683200Z"
    }
   },
   "id": "8c46d36766b27a68"
  },
  {
   "cell_type": "markdown",
   "source": [
    "Merge biological descriptors to molecules' label."
   ],
   "metadata": {
    "collapsed": false
   },
   "id": "1da79680b56309b3"
  },
  {
   "cell_type": "code",
   "execution_count": 6,
   "outputs": [],
   "source": [
    "tmp = (labels.merge(data, on='InChIKey')\n",
    "       .query('Inclusion == \"Included\"')\n",
    "       .drop(columns=['InChIKey', 'Name', 'SMILES', 'Inclusion', 'CMAX_uM'])\n",
    "       )"
   ],
   "metadata": {
    "collapsed": false,
    "ExecuteTime": {
     "end_time": "2025-04-14T14:20:03.306296100Z",
     "start_time": "2025-04-14T14:20:03.104577500Z"
    }
   },
   "id": "c44592dfffc6c05d"
  },
  {
   "cell_type": "markdown",
   "source": [],
   "metadata": {
    "collapsed": false
   },
   "id": "587e9b25ba5b6126"
  },
  {
   "cell_type": "code",
   "execution_count": 7,
   "outputs": [],
   "source": [
    "(tmp.groupby('binaryDILI')\n",
    " .describe().T\n",
    " .reset_index()\n",
    " .rename(columns={'level_0': 'feature',\n",
    "                  'level_1': 'stat',\n",
    "                  0: 'neg',\n",
    "                  1: 'pos'})\n",
    " .query('stat.isin([\"min\", \"max\", \"std\"])')\n",
    " .pivot(index='feature', columns='stat', values=['neg', 'pos'])\n",
    " .T.reset_index(drop=True)\n",
    " .T\n",
    " .rename(columns={0: 'neg_max', 1: 'neg_min', 2: 'neg_std', 3: 'pos_max', 4: 'pos_min', 5: 'pos_std'})\n",
    " .assign(neg_interval_in_pos_interval=lambda x: (x.neg_max < x.pos_max) & (x.neg_min > x.pos_min))\n",
    " .to_excel(f'{OUT_FOLDER}/DILI_kept_features_in_interval_pos_neg.xlsx')\n",
    ")"
   ],
   "metadata": {
    "collapsed": false,
    "ExecuteTime": {
     "end_time": "2025-04-14T14:20:05.441320900Z",
     "start_time": "2025-04-14T14:20:03.306296100Z"
    }
   },
   "id": "cc796c206e3a4028"
  }
 ],
 "metadata": {
  "kernelspec": {
   "display_name": "Python 3",
   "language": "python",
   "name": "python3"
  },
  "language_info": {
   "codemirror_mode": {
    "name": "ipython",
    "version": 2
   },
   "file_extension": ".py",
   "mimetype": "text/x-python",
   "name": "python",
   "nbconvert_exporter": "python",
   "pygments_lexer": "ipython2",
   "version": "2.7.6"
  }
 },
 "nbformat": 4,
 "nbformat_minor": 5
}
