{
 "cells": [
  {
   "cell_type": "code",
   "execution_count": 1,
   "id": "initial_id",
   "metadata": {
    "collapsed": true,
    "ExecuteTime": {
     "end_time": "2025-04-14T14:18:38.603530900Z",
     "start_time": "2025-04-14T14:18:34.105680200Z"
    }
   },
   "outputs": [],
   "source": [
    "import os\n",
    "from warnings import simplefilter\n",
    "\n",
    "simplefilter(action='ignore', category=FutureWarning)\n",
    "simplefilter(action='ignore', category=UserWarning)\n",
    "\n",
    "import pandas as pd\n",
    "from natsort import natsort\n",
    "\n",
    "from utilities import plot_figure_heatmap"
   ]
  },
  {
   "cell_type": "markdown",
   "source": [
    "Constants."
   ],
   "metadata": {
    "collapsed": false
   },
   "id": "3974d9d2fa6ab5f"
  },
  {
   "cell_type": "code",
   "execution_count": 2,
   "outputs": [],
   "source": [
    "ROOT = '.'\n",
    "DATA_FOLDER = f'{ROOT}/data'\n",
    "OUT_FOLDER = f'{ROOT}/results'\n",
    "os.makedirs(OUT_FOLDER, exist_ok=True)\n",
    "FILE = f\"{DATA_FOLDER}/Supp. File 1.xlsx\""
   ],
   "metadata": {
    "collapsed": false,
    "ExecuteTime": {
     "end_time": "2025-04-14T14:18:38.610805Z",
     "start_time": "2025-04-14T14:18:38.602542700Z"
    }
   },
   "id": "dac2244f74a3430"
  },
  {
   "cell_type": "markdown",
   "source": [
    "Read the data."
   ],
   "metadata": {
    "collapsed": false
   },
   "id": "831860c770481854"
  },
  {
   "cell_type": "code",
   "execution_count": 3,
   "outputs": [],
   "source": [
    "data = pd.read_excel(FILE, sheet_name=0)\n",
    "labels = pd.read_excel(FILE, sheet_name=1, usecols=['InChIKey', 'binaryDILI'])\n",
    "data = data.merge(labels, on='InChIKey')\n",
    "data = data[data.Inclusion == 'Included']\n",
    "data = data.dropna()"
   ],
   "metadata": {
    "collapsed": false,
    "ExecuteTime": {
     "end_time": "2025-04-14T14:18:42.458008Z",
     "start_time": "2025-04-14T14:18:38.607805500Z"
    }
   },
   "id": "e99988d3f4d92193"
  },
  {
   "cell_type": "markdown",
   "source": [
    "Organize the data."
   ],
   "metadata": {
    "collapsed": false
   },
   "id": "edfb3af0c6bb5940"
  },
  {
   "cell_type": "code",
   "execution_count": 4,
   "outputs": [],
   "source": [
    "data = pd.concat([data.iloc[:, :5], data[['binaryDILI']], data.iloc[:, 5:-1]], axis=1)\n",
    "\n",
    "# Select Pos1i for all but for ICAM select Diff1i\n",
    "data = data.loc[:, (data.columns.str.endswith('GfpPos1i') & ~data.columns.str.startswith('icam1')) | (data.columns.str.endswith('GfpDiff1i') & data.columns.str.startswith('icam1')) | data.columns.isin(data.columns[:6])]\n",
    "data['binaryDILI'] = data['binaryDILI'].replace({0: 'Negative', 1: 'Positive'})\n",
    "data.index = data.Name.str.lower()\n",
    "\n",
    "data.columns = data.columns[:6].tolist() + pd.Series(data.columns[6:]).str.split('_').apply(\n",
    "    lambda x: f\"{x[0]}_{x[2]}_{x[1]}_{'_'.join(x[3:])}\").tolist()\n",
    "data = data[data.columns[:6].tolist() + natsort.natsorted(data.columns[6:])]\n",
    "data['binaryDILI'] = pd.Categorical(data.binaryDILI, categories=[\"Negative\", \"Positive\"], ordered=True)\n",
    "\n",
    "melt = pd.DataFrame(pd.Series(data.columns[6:]).str.split('_').apply(lambda x: x[:3]).values.tolist(),\n",
    "                    columns=['Cell line', 'Time point', 'Concentration'])\n",
    "melt = melt.replace({'tp24': '24', 'tp48': '48', 'tp72': '72'})\n",
    "melt = melt.replace(\n",
    "    {'cmax1': '1 CMAX', 'cmax5': '5 CMAX', 'cmax10': '10 CMAX', 'cmax25': '25 CMAX', 'cmax50': '50 CMAX',\n",
    "     'cmax100': '100 CMAX'})\n",
    "melt['Cell line'] = melt['Cell line'].str.upper()\n",
    "melt['Cell line'] = pd.Categorical(melt['Cell line'], ordered=True,\n",
    "                                   categories=['SRXN1', 'HMOX1', 'CHOP', 'BIP', 'P21', 'BTG2', 'HSPA1B', 'ICAM1'])\n",
    "\n",
    "melt.index = data.columns[6:]"
   ],
   "metadata": {
    "collapsed": false,
    "ExecuteTime": {
     "end_time": "2025-04-14T14:18:42.478147300Z",
     "start_time": "2025-04-14T14:18:42.462008600Z"
    }
   },
   "id": "761fb450fd27f636"
  },
  {
   "cell_type": "markdown",
   "source": [
    "Obtain Figure 1.\n"
   ],
   "metadata": {
    "collapsed": false
   },
   "id": "a1bcc90a30e95101"
  },
  {
   "cell_type": "code",
   "execution_count": 5,
   "outputs": [],
   "source": [
    "plot_figure_heatmap(data.copy(), melt.copy(), folder=OUT_FOLDER, colormap='RdYlBu_r')"
   ],
   "metadata": {
    "collapsed": false,
    "ExecuteTime": {
     "end_time": "2025-04-14T14:18:56.822990800Z",
     "start_time": "2025-04-14T14:18:42.479149400Z"
    }
   },
   "id": "dd445e62fe686ae"
  },
  {
   "cell_type": "code",
   "execution_count": 6,
   "outputs": [],
   "source": [
    "# Comment out the next lines to obtain other heatmaps.\n",
    "# readouts = pd.Series(data.columns[6:-1].str.split('_')).apply(lambda x: '_'.join(x[3:])).unique()\n",
    "# pbar = tqdm(natsort.natsorted(readouts))\n",
    "# for readout in pbar:\n",
    "#     pbar.set_description(readout)\n",
    "#     plot_heatmap(data.copy(), readout, OUT_FOLDER)"
   ],
   "metadata": {
    "collapsed": false,
    "ExecuteTime": {
     "end_time": "2025-04-14T14:18:56.828924600Z",
     "start_time": "2025-04-14T14:18:56.822990800Z"
    }
   },
   "id": "afbf0f7c59de88c6"
  }
 ],
 "metadata": {
  "kernelspec": {
   "display_name": "Python 3",
   "language": "python",
   "name": "python3"
  },
  "language_info": {
   "codemirror_mode": {
    "name": "ipython",
    "version": 2
   },
   "file_extension": ".py",
   "mimetype": "text/x-python",
   "name": "python",
   "nbconvert_exporter": "python",
   "pygments_lexer": "ipython2",
   "version": "2.7.6"
  }
 },
 "nbformat": 4,
 "nbformat_minor": 5
}
