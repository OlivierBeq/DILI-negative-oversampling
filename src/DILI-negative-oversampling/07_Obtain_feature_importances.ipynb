{
 "cells": [
  {
   "cell_type": "code",
   "execution_count": 4,
   "id": "initial_id",
   "metadata": {
    "collapsed": true,
    "ExecuteTime": {
     "end_time": "2025-04-15T09:19:43.538150300Z",
     "start_time": "2025-04-15T09:19:43.442595900Z"
    }
   },
   "outputs": [
    {
     "name": "stdout",
     "output_type": "stream",
     "text": [
      "The autoreload extension is already loaded. To reload it, use:\n",
      "  %reload_ext autoreload\n"
     ]
    }
   ],
   "source": [
    "import os.path\n",
    "%load_ext autoreload\n",
    "%autoreload 2"
   ]
  },
  {
   "cell_type": "code",
   "execution_count": 5,
   "outputs": [],
   "source": [
    "import pandas as pd\n",
    "from pandarallel import pandarallel\n",
    "from tqdm.auto import tqdm, trange\n",
    "from sklearn.metrics import auc as auc_fn\n",
    "from sklearn.linear_model import LinearRegression\n",
    "\n",
    "from utilities import deserialize_xgboost_classifier_and_get_importance_gain"
   ],
   "metadata": {
    "collapsed": false,
    "ExecuteTime": {
     "end_time": "2025-04-15T09:19:43.671193900Z",
     "start_time": "2025-04-15T09:19:43.538150300Z"
    }
   },
   "id": "8428498f26e4f3f0"
  },
  {
   "cell_type": "markdown",
   "source": [
    "Constants."
   ],
   "metadata": {
    "collapsed": false
   },
   "id": "85984fed2e223c7a"
  },
  {
   "cell_type": "code",
   "execution_count": 6,
   "outputs": [],
   "source": [
    "ROOT = '.'\n",
    "OUT_FOLDER = f'{ROOT}/results'\n",
    "DATA_FOLDER = f'{ROOT}/data'\n",
    "FILE = f\"{DATA_FOLDER}/Supp. File 1.xlsx\"\n",
    "N_JOBS = -1"
   ],
   "metadata": {
    "collapsed": false,
    "ExecuteTime": {
     "end_time": "2025-04-15T09:19:43.781479800Z",
     "start_time": "2025-04-15T09:19:43.671193900Z"
    }
   },
   "id": "1baab8d53f0f08f9"
  },
  {
   "cell_type": "markdown",
   "source": [
    "Read results from the custom oversampling."
   ],
   "metadata": {
    "collapsed": false
   },
   "id": "74333ef00ed3054e"
  },
  {
   "cell_type": "code",
   "execution_count": null,
   "outputs": [],
   "source": [
    "if not os.path.exists(f'{DATA_FOLDER}/DILI_complete_oversampling_analysis2024_feature_importance_avg_gain_norm_across_folds.feather'):\n",
    "    data = pd.read_feather(f'{DATA_FOLDER}/DILI_complete_oversampling_analysis2024.feather')"
   ],
   "metadata": {
    "collapsed": false
   },
   "id": "5ef26aed3367e693"
  },
  {
   "cell_type": "markdown",
   "source": [
    "Extract feature importances from serialized models."
   ],
   "metadata": {
    "collapsed": false
   },
   "id": "7e4fe529894ab727"
  },
  {
   "cell_type": "code",
   "execution_count": null,
   "outputs": [],
   "source": [
    "if not os.path.exists(f'{DATA_FOLDER}/DILI_complete_oversampling_analysis2024_feature_importance_avg_gain_norm_across_folds.feather'):\n",
    "    pandarallel.initialize(progress_bar=True, verbose=False)\n",
    "    important_features = pd.DataFrame.from_dict(data['model'].parallel_apply(deserialize_xgboost_classifier_and_get_importance_gain).tolist())\n",
    "    important_features.insert(0, 'dataset', data['dataset'].reset_index(drop=True), True)\n",
    "    important_features.insert(1, 'descriptors', data['descriptors'].reset_index(drop=True), True)\n",
    "    important_features.insert(2, 'num_stds', data['num_stds'].reset_index(drop=True), True)\n",
    "    important_features.insert(3, 'samples added', data['samples added'].reset_index(drop=True), True)"
   ],
   "metadata": {
    "collapsed": false
   },
   "id": "555bee15a73e88c8"
  },
  {
   "cell_type": "code",
   "execution_count": null,
   "outputs": [],
   "source": [
    "if not os.path.exists(f'{DATA_FOLDER}/DILI_complete_oversampling_analysis2024_feature_importance_avg_gain_norm_across_folds.feather'):\n",
    "    # Ensure total gain of all features for each condition = 1\n",
    "    for i in trange(0, len(important_features), 1000):\n",
    "        important_features.iloc[i: i +1000, 4:] = important_features.iloc[i: i +1000, 4:].div(important_features.iloc[i: i +1000, 4:].sum(axis=1), axis=0)\n",
    "    \n",
    "    important_features.to_feather(f'{OUT_FOLDER}/DILI_complete_oversampling_analysis2024_feature_importance_avg_gain_norm.feather')\n",
    "    # Sum across 5-folds\n",
    "    important_features = important_features.groupby(['dataset', 'descriptors', 'num_stds', 'samples added'], as_index=False).sum()\n",
    "    # Ensure total gain is normalized per condition (their sums are 1)\n",
    "    important_features.iloc[:, 4:] = important_features.iloc[:, 4:].div(important_features.iloc[:, 4:].sum(axis=1), axis=0)\n",
    "    # Save to disk.\n",
    "    important_features.to_feather(f'{DATA_FOLDER}/DILI_complete_oversampling_analysis2024_feature_importance_avg_gain_norm_across_folds.feather')"
   ],
   "metadata": {
    "collapsed": false
   },
   "id": "549d10ca896d81d4"
  },
  {
   "cell_type": "code",
   "execution_count": 7,
   "outputs": [],
   "source": [
    "important_features = pd.read_feather(\n",
    "    f'{DATA_FOLDER}/DILI_complete_oversampling_analysis2024_feature_importance_avg_gain_norm_across_folds.feather')\n",
    "# Melt and ignore NAs summed to 0\n",
    "data = important_features.melt(id_vars=['dataset', 'descriptors', 'num_stds', 'samples added']).query('value != 0')"
   ],
   "metadata": {
    "collapsed": false,
    "ExecuteTime": {
     "end_time": "2025-04-15T09:19:44.165407900Z",
     "start_time": "2025-04-15T09:19:43.781479800Z"
    }
   },
   "id": "e59d97291bd6749d"
  },
  {
   "cell_type": "markdown",
   "source": [
    "Separate feature per type."
   ],
   "metadata": {
    "collapsed": false
   },
   "id": "d54734497ec8b4e2"
  },
  {
   "cell_type": "code",
   "execution_count": 8,
   "outputs": [],
   "source": [
    "bio_descs = data[data.variable.str.split('_').str[0].isin(['bip', 'btg2', 'chop', 'hmox1', 'hspa1b', 'icam1', 'p21', 'srxn1'])].variable.drop_duplicates()\n",
    "chem_descs = data[~data.variable.str.startswith('ECFP_6') & ~data.variable.str.split('_').str[0].isin(['bip', 'btg2', 'chop', 'hmox1', 'hspa1b', 'icam1', 'p21', 'srxn1']) & ~data.variable.str.endswith('_WT') & ~data.variable.str.contains('^.+(?:_[ACDEFGHIKLMNPQRSTVWY]\\d+[ACDEFGHIKLMNPQRSTVWY])+$')].variable.drop_duplicates()\n",
    "chemfp_descs = data[data.variable.str.startswith('ECFP_6')].variable.drop_duplicates()\n",
    "allchem_descs = pd.concat((chem_descs, chemfp_descs)).drop_duplicates()\n",
    "biospectra_descs = data[data.variable.str.endswith('_WT') & ~data.variable.str.contains('^.+(?:_[ACDEFGHIKLMNPQRSTVWY]\\d+[ACDEFGHIKLMNPQRSTVWY])+$')].variable.drop_duplicates()\n",
    "\n",
    "bip_descs = data[data.variable.str.startswith('bip')].variable.drop_duplicates()\n",
    "btg2_descs = data[data.variable.str.startswith('btg2')].variable.drop_duplicates()\n",
    "chop_descs = data[data.variable.str.startswith('chop')].variable.drop_duplicates()\n",
    "hmox1_descs = data[data.variable.str.startswith('hmox1')].variable.drop_duplicates()\n",
    "hspa1b_descs = data[data.variable.str.startswith('hspa1b')].variable.drop_duplicates()\n",
    "icam1_descs = data[data.variable.str.startswith('icam1')].variable.drop_duplicates()\n",
    "p21_descs = data[data.variable.str.startswith('p21')].variable.drop_duplicates()\n",
    "srxn1_descs = data[data.variable.str.startswith('srxn1')].variable.drop_duplicates()\n",
    "\n",
    "cmax1_descs = data[data.variable.str.split('_').str[1] == 'cmax1'].variable.drop_duplicates()\n",
    "cmax5_descs = data[data.variable.str.split('_').str[1] == 'cmax5'].variable.drop_duplicates()\n",
    "cmax10_descs = data[data.variable.str.split('_').str[1] == 'cmax10'].variable.drop_duplicates()\n",
    "cmax25_descs = data[data.variable.str.split('_').str[1] == 'cmax25'].variable.drop_duplicates()\n",
    "cmax50_descs = data[data.variable.str.split('_').str[1] == 'cmax50'].variable.drop_duplicates()\n",
    "cmax100_descs = data[data.variable.str.split('_').str[1] == 'cmax100'].variable.drop_duplicates()\n",
    "\n",
    "tp24 = data[data.variable.str.split('_').str[2] == 'tp24'].variable.drop_duplicates()\n",
    "tp48 = data[data.variable.str.split('_').str[2] == 'tp48'].variable.drop_duplicates()\n",
    "tp72 = data[data.variable.str.split('_').str[2] == 'tp72'].variable.drop_duplicates()"
   ],
   "metadata": {
    "collapsed": false,
    "ExecuteTime": {
     "end_time": "2025-04-15T09:19:45.893442100Z",
     "start_time": "2025-04-15T09:19:44.165407900Z"
    }
   },
   "id": "f5b6bb3ec4fb3968"
  },
  {
   "cell_type": "markdown",
   "source": [
    "Obtain the feature importance per feature type."
   ],
   "metadata": {
    "collapsed": false
   },
   "id": "b03c0ce0144e020e"
  },
  {
   "cell_type": "code",
   "execution_count": 9,
   "outputs": [
    {
     "data": {
      "text/plain": "  0%|          | 0/9 [00:00<?, ?it/s]",
      "application/vnd.jupyter.widget-view+json": {
       "version_major": 2,
       "version_minor": 0,
       "model_id": "76be1b32b23145c1b3fba96eb0853b92"
      }
     },
     "metadata": {},
     "output_type": "display_data"
    }
   ],
   "source": [
    "features = [('bio', bio_descs), ('allchem', allchem_descs), ('chem', chem_descs), ('chemfp', chemfp_descs), ('biospectra', biospectra_descs),\n",
    "            ('bip', bip_descs), ('btg2', btg2_descs), ('chop', chop_descs), ('hmox1', hmox1_descs), ('hspa1b', hspa1b_descs), ('icam1', icam1_descs), ('p21', p21_descs), ('srxn1', srxn1_descs),\n",
    "            ('cmax1', cmax1_descs), ('cmax5', cmax5_descs), ('cmax10', cmax10_descs), ('cmax25', cmax25_descs), ('cmax50', cmax50_descs), ('cmax100', cmax100_descs),\n",
    "            ('24h', tp24), ('48h', tp48), ('72h', tp72)]\n",
    "\n",
    "table1 = []\n",
    "for dataset in tqdm(['All', 'GFP', 'AnV', 'PI' , 'AnV-PI', 'GFP-AnV-PI',\n",
    "                     'IntegratedIntensity', 'MeanIntensity', 'NormCounts']):\n",
    "    for descriptors in ['bio', 'biochem', 'biospectra']:\n",
    "        for num_stds in range(1, 6):\n",
    "            x = data.query(f'dataset == \"{dataset}\" and descriptors == \"{descriptors}\" and num_stds == {num_stds}', engine='python')\n",
    "            results1 = {}\n",
    "            results2 = {}\n",
    "            for feature_name, feature_list in features:\n",
    "                values = x.query(f'variable in @feature_list', engine='python').groupby('samples added', as_index=False).sum()[['samples added', 'value']]\n",
    "                if values.empty:\n",
    "                    results1[feature_name] = None\n",
    "                    results2[feature_name] = None\n",
    "                else:\n",
    "                    auc = auc_fn(values['samples added']/250, values['value'])\n",
    "                    slope = LinearRegression().fit(values['samples added'].values.reshape(-1, 1), values['value']).coef_.item()\n",
    "                    results1[feature_name] = auc\n",
    "                    results2[feature_name] = slope\n",
    "            results1 = pd.DataFrame([results1])\n",
    "            results1.insert(0, 'dataset', dataset)\n",
    "            results1.insert(1, 'descriptors', descriptors)\n",
    "            results1.insert(2, 'num_stds', num_stds)\n",
    "            results2 = pd.DataFrame([results2])\n",
    "            results2.insert(0, 'dataset', dataset)\n",
    "            results2.insert(1, 'descriptors', descriptors)\n",
    "            results2.insert(2, 'num_stds', num_stds)\n",
    "            table1.append(results1)\n",
    "\n",
    "table1 = pd.concat(table1)"
   ],
   "metadata": {
    "collapsed": false,
    "ExecuteTime": {
     "end_time": "2025-04-15T09:19:53.835430Z",
     "start_time": "2025-04-15T09:19:45.901525900Z"
    }
   },
   "id": "3a3fe7f9fbc525ad"
  },
  {
   "cell_type": "markdown",
   "source": [
    "Obtain Figure 4A, B, and C."
   ],
   "metadata": {
    "collapsed": false
   },
   "id": "efca9966a60094fb"
  },
  {
   "cell_type": "code",
   "execution_count": 10,
   "outputs": [
    {
     "data": {
      "text/plain": "descriptors     bio  biochem  biospectra\nbio          1.0000   0.9859      0.8531\nallchem         NaN   0.0141      0.0042\nchem            NaN   0.0053      0.0009\nchemfp          NaN   0.0088      0.0034\nbiospectra      NaN      NaN      0.1425\nbip          0.0896   0.0892      0.0701\nbtg2         0.1146   0.1099      0.0975\nchop         0.1212   0.1200      0.1115\nhmox1        0.1116   0.1123      0.0950\nhspa1b       0.0717   0.0686      0.0569\nicam1        0.1266   0.1246      0.1111\np21          0.1608   0.1623      0.1414\nsrxn1        0.2038   0.1990      0.1696\ncmax1        0.0889   0.0925      0.0718\ncmax5        0.2388   0.2356      0.2176\ncmax10       0.1974   0.1971      0.1659\ncmax25       0.0540   0.0488      0.0364\ncmax50       0.1998   0.1956      0.1650\ncmax100      0.2212   0.2163      0.1965\n24h          0.3441   0.3343      0.2770\n48h          0.3173   0.3120      0.2722\n72h          0.3386   0.3397      0.3039",
      "text/html": "<div>\n<style scoped>\n    .dataframe tbody tr th:only-of-type {\n        vertical-align: middle;\n    }\n\n    .dataframe tbody tr th {\n        vertical-align: top;\n    }\n\n    .dataframe thead th {\n        text-align: right;\n    }\n</style>\n<table border=\"1\" class=\"dataframe\">\n  <thead>\n    <tr style=\"text-align: right;\">\n      <th>descriptors</th>\n      <th>bio</th>\n      <th>biochem</th>\n      <th>biospectra</th>\n    </tr>\n  </thead>\n  <tbody>\n    <tr>\n      <th>bio</th>\n      <td>1.0000</td>\n      <td>0.9859</td>\n      <td>0.8531</td>\n    </tr>\n    <tr>\n      <th>allchem</th>\n      <td>NaN</td>\n      <td>0.0141</td>\n      <td>0.0042</td>\n    </tr>\n    <tr>\n      <th>chem</th>\n      <td>NaN</td>\n      <td>0.0053</td>\n      <td>0.0009</td>\n    </tr>\n    <tr>\n      <th>chemfp</th>\n      <td>NaN</td>\n      <td>0.0088</td>\n      <td>0.0034</td>\n    </tr>\n    <tr>\n      <th>biospectra</th>\n      <td>NaN</td>\n      <td>NaN</td>\n      <td>0.1425</td>\n    </tr>\n    <tr>\n      <th>bip</th>\n      <td>0.0896</td>\n      <td>0.0892</td>\n      <td>0.0701</td>\n    </tr>\n    <tr>\n      <th>btg2</th>\n      <td>0.1146</td>\n      <td>0.1099</td>\n      <td>0.0975</td>\n    </tr>\n    <tr>\n      <th>chop</th>\n      <td>0.1212</td>\n      <td>0.1200</td>\n      <td>0.1115</td>\n    </tr>\n    <tr>\n      <th>hmox1</th>\n      <td>0.1116</td>\n      <td>0.1123</td>\n      <td>0.0950</td>\n    </tr>\n    <tr>\n      <th>hspa1b</th>\n      <td>0.0717</td>\n      <td>0.0686</td>\n      <td>0.0569</td>\n    </tr>\n    <tr>\n      <th>icam1</th>\n      <td>0.1266</td>\n      <td>0.1246</td>\n      <td>0.1111</td>\n    </tr>\n    <tr>\n      <th>p21</th>\n      <td>0.1608</td>\n      <td>0.1623</td>\n      <td>0.1414</td>\n    </tr>\n    <tr>\n      <th>srxn1</th>\n      <td>0.2038</td>\n      <td>0.1990</td>\n      <td>0.1696</td>\n    </tr>\n    <tr>\n      <th>cmax1</th>\n      <td>0.0889</td>\n      <td>0.0925</td>\n      <td>0.0718</td>\n    </tr>\n    <tr>\n      <th>cmax5</th>\n      <td>0.2388</td>\n      <td>0.2356</td>\n      <td>0.2176</td>\n    </tr>\n    <tr>\n      <th>cmax10</th>\n      <td>0.1974</td>\n      <td>0.1971</td>\n      <td>0.1659</td>\n    </tr>\n    <tr>\n      <th>cmax25</th>\n      <td>0.0540</td>\n      <td>0.0488</td>\n      <td>0.0364</td>\n    </tr>\n    <tr>\n      <th>cmax50</th>\n      <td>0.1998</td>\n      <td>0.1956</td>\n      <td>0.1650</td>\n    </tr>\n    <tr>\n      <th>cmax100</th>\n      <td>0.2212</td>\n      <td>0.2163</td>\n      <td>0.1965</td>\n    </tr>\n    <tr>\n      <th>24h</th>\n      <td>0.3441</td>\n      <td>0.3343</td>\n      <td>0.2770</td>\n    </tr>\n    <tr>\n      <th>48h</th>\n      <td>0.3173</td>\n      <td>0.3120</td>\n      <td>0.2722</td>\n    </tr>\n    <tr>\n      <th>72h</th>\n      <td>0.3386</td>\n      <td>0.3397</td>\n      <td>0.3039</td>\n    </tr>\n  </tbody>\n</table>\n</div>"
     },
     "execution_count": 10,
     "metadata": {},
     "output_type": "execute_result"
    }
   ],
   "source": [
    "table1.query('dataset == \"All\" and num_stds == 1').drop(columns=['dataset', 'num_stds']).groupby('descriptors').agg('mean').round(4).T"
   ],
   "metadata": {
    "collapsed": false,
    "ExecuteTime": {
     "end_time": "2025-04-15T09:19:53.966820300Z",
     "start_time": "2025-04-15T09:19:53.835430Z"
    }
   },
   "id": "453bf500de551c25"
  },
  {
   "cell_type": "markdown",
   "source": [
    "Obtain first part of Figure 4D. "
   ],
   "metadata": {
    "collapsed": false
   },
   "id": "c2694b93f321ec63"
  },
  {
   "cell_type": "code",
   "execution_count": 11,
   "outputs": [
    {
     "data": {
      "text/plain": "  0%|          | 0/3 [00:00<?, ?it/s]",
      "application/vnd.jupyter.widget-view+json": {
       "version_major": 2,
       "version_minor": 0,
       "model_id": "f266d46c4a4542e38ea360223f0d34d9"
      }
     },
     "metadata": {},
     "output_type": "display_data"
    }
   ],
   "source": [
    "table3 = []\n",
    "dataset  = 'All'\n",
    "for descriptors in tqdm(['bio', 'biochem', 'biospectra']):\n",
    "    for num_stds in range(1, 6):\n",
    "        x = data.query(f'dataset == \"{dataset}\" and descriptors == \"{descriptors}\" and num_stds == {num_stds}', engine='python')\n",
    "        results1 = {}\n",
    "        results2 = {}\n",
    "        for feature_name in chem_descs:\n",
    "            values = x.query(f'variable == \"{feature_name}\"', engine='python')[['samples added', 'value']]\n",
    "            if values.empty or values.shape[0] == 1:\n",
    "                results1[feature_name] = None\n",
    "            else:\n",
    "                auc = auc_fn(values['samples added']/250, values['value'])\n",
    "                slope = LinearRegression().fit(values['samples added'].values.reshape(-1, 1), values['value']).coef_.item()\n",
    "                results1[feature_name] = auc\n",
    "                results2[feature_name] = slope\n",
    "        results1 = pd.DataFrame([results1])\n",
    "        results1.insert(0, 'dataset', dataset)\n",
    "        results1.insert(1, 'descriptors', descriptors)\n",
    "        results1.insert(2, 'num_stds', num_stds)\n",
    "        table3.append(results1)\n",
    "        results2 = pd.DataFrame([results2])\n",
    "        results2.insert(0, 'dataset', dataset)\n",
    "        results2.insert(1, 'descriptors', descriptors)\n",
    "        results2.insert(2, 'num_stds', num_stds)\n",
    "\n",
    "table3 = pd.concat(table3)"
   ],
   "metadata": {
    "collapsed": false,
    "ExecuteTime": {
     "end_time": "2025-04-15T09:19:55.088658200Z",
     "start_time": "2025-04-15T09:19:53.961173700Z"
    }
   },
   "id": "3c995a34b110f877"
  },
  {
   "cell_type": "code",
   "execution_count": 12,
   "outputs": [
    {
     "data": {
      "text/plain": "descriptors               bio biochem biospectra\nES_Sum_sOH                NaN  0.0015     0.0001\nALogP                     NaN  0.0011     0.0002\nES_Sum_sssCH              NaN  0.0009     0.0001\nES_Sum_dssC               NaN  0.0005        NaN\nES_Sum_ssCH2              NaN  0.0004        0.0\nCHI_V_3_C                 NaN  0.0004        NaN\nES_Sum_ddsN               NaN  0.0004     0.0003\nES_Sum_sssN               NaN  0.0002        NaN\nH_Count                   NaN  0.0002        NaN\nES_Sum_dO                 NaN  0.0002        0.0\nS_Count                   NaN  0.0002        NaN\nES_Sum_ssO                NaN  0.0001        NaN\nKappa_3_AM                NaN  0.0001        NaN\nES_Sum_sCH3               NaN  0.0001        NaN\nCHI_V_3_P                 NaN  0.0001        NaN\nMolecular_Weight          NaN  0.0001        NaN\nES_Sum_ssS                NaN  0.0001        0.0\nES_Sum_aasC               NaN  0.0001        0.0\nJY                        NaN     0.0        NaN\nNum_H_Donors_Lipinski     NaN     0.0        NaN\nWiener                    NaN     0.0        NaN\nPHI                       NaN     0.0        NaN\nES_Sum_aaCH               NaN     0.0     0.0001\nC_Count                   NaN     NaN        NaN\nO_Count                   NaN     NaN        NaN\nES_Sum_sNH2               NaN     NaN        NaN\nMolecular_Solubility      NaN     NaN     0.0004\nN_Count                   NaN     NaN        NaN\nNum_H_Acceptors_Lipinski  NaN     NaN        NaN\nES_Sum_aaN                NaN     NaN        NaN\nF_Count                   NaN     NaN        NaN\nES_Sum_dsCH               NaN     NaN        NaN\nES_Sum_ssNH               NaN     NaN        NaN\nES_Sum_aaaC               NaN     NaN        NaN\nCl_Count                  NaN     NaN        NaN\nES_Sum_ssssC              NaN     NaN        NaN",
      "text/html": "<div>\n<style scoped>\n    .dataframe tbody tr th:only-of-type {\n        vertical-align: middle;\n    }\n\n    .dataframe tbody tr th {\n        vertical-align: top;\n    }\n\n    .dataframe thead th {\n        text-align: right;\n    }\n</style>\n<table border=\"1\" class=\"dataframe\">\n  <thead>\n    <tr style=\"text-align: right;\">\n      <th>descriptors</th>\n      <th>bio</th>\n      <th>biochem</th>\n      <th>biospectra</th>\n    </tr>\n  </thead>\n  <tbody>\n    <tr>\n      <th>ES_Sum_sOH</th>\n      <td>NaN</td>\n      <td>0.0015</td>\n      <td>0.0001</td>\n    </tr>\n    <tr>\n      <th>ALogP</th>\n      <td>NaN</td>\n      <td>0.0011</td>\n      <td>0.0002</td>\n    </tr>\n    <tr>\n      <th>ES_Sum_sssCH</th>\n      <td>NaN</td>\n      <td>0.0009</td>\n      <td>0.0001</td>\n    </tr>\n    <tr>\n      <th>ES_Sum_dssC</th>\n      <td>NaN</td>\n      <td>0.0005</td>\n      <td>NaN</td>\n    </tr>\n    <tr>\n      <th>ES_Sum_ssCH2</th>\n      <td>NaN</td>\n      <td>0.0004</td>\n      <td>0.0</td>\n    </tr>\n    <tr>\n      <th>CHI_V_3_C</th>\n      <td>NaN</td>\n      <td>0.0004</td>\n      <td>NaN</td>\n    </tr>\n    <tr>\n      <th>ES_Sum_ddsN</th>\n      <td>NaN</td>\n      <td>0.0004</td>\n      <td>0.0003</td>\n    </tr>\n    <tr>\n      <th>ES_Sum_sssN</th>\n      <td>NaN</td>\n      <td>0.0002</td>\n      <td>NaN</td>\n    </tr>\n    <tr>\n      <th>H_Count</th>\n      <td>NaN</td>\n      <td>0.0002</td>\n      <td>NaN</td>\n    </tr>\n    <tr>\n      <th>ES_Sum_dO</th>\n      <td>NaN</td>\n      <td>0.0002</td>\n      <td>0.0</td>\n    </tr>\n    <tr>\n      <th>S_Count</th>\n      <td>NaN</td>\n      <td>0.0002</td>\n      <td>NaN</td>\n    </tr>\n    <tr>\n      <th>ES_Sum_ssO</th>\n      <td>NaN</td>\n      <td>0.0001</td>\n      <td>NaN</td>\n    </tr>\n    <tr>\n      <th>Kappa_3_AM</th>\n      <td>NaN</td>\n      <td>0.0001</td>\n      <td>NaN</td>\n    </tr>\n    <tr>\n      <th>ES_Sum_sCH3</th>\n      <td>NaN</td>\n      <td>0.0001</td>\n      <td>NaN</td>\n    </tr>\n    <tr>\n      <th>CHI_V_3_P</th>\n      <td>NaN</td>\n      <td>0.0001</td>\n      <td>NaN</td>\n    </tr>\n    <tr>\n      <th>Molecular_Weight</th>\n      <td>NaN</td>\n      <td>0.0001</td>\n      <td>NaN</td>\n    </tr>\n    <tr>\n      <th>ES_Sum_ssS</th>\n      <td>NaN</td>\n      <td>0.0001</td>\n      <td>0.0</td>\n    </tr>\n    <tr>\n      <th>ES_Sum_aasC</th>\n      <td>NaN</td>\n      <td>0.0001</td>\n      <td>0.0</td>\n    </tr>\n    <tr>\n      <th>JY</th>\n      <td>NaN</td>\n      <td>0.0</td>\n      <td>NaN</td>\n    </tr>\n    <tr>\n      <th>Num_H_Donors_Lipinski</th>\n      <td>NaN</td>\n      <td>0.0</td>\n      <td>NaN</td>\n    </tr>\n    <tr>\n      <th>Wiener</th>\n      <td>NaN</td>\n      <td>0.0</td>\n      <td>NaN</td>\n    </tr>\n    <tr>\n      <th>PHI</th>\n      <td>NaN</td>\n      <td>0.0</td>\n      <td>NaN</td>\n    </tr>\n    <tr>\n      <th>ES_Sum_aaCH</th>\n      <td>NaN</td>\n      <td>0.0</td>\n      <td>0.0001</td>\n    </tr>\n    <tr>\n      <th>C_Count</th>\n      <td>NaN</td>\n      <td>NaN</td>\n      <td>NaN</td>\n    </tr>\n    <tr>\n      <th>O_Count</th>\n      <td>NaN</td>\n      <td>NaN</td>\n      <td>NaN</td>\n    </tr>\n    <tr>\n      <th>ES_Sum_sNH2</th>\n      <td>NaN</td>\n      <td>NaN</td>\n      <td>NaN</td>\n    </tr>\n    <tr>\n      <th>Molecular_Solubility</th>\n      <td>NaN</td>\n      <td>NaN</td>\n      <td>0.0004</td>\n    </tr>\n    <tr>\n      <th>N_Count</th>\n      <td>NaN</td>\n      <td>NaN</td>\n      <td>NaN</td>\n    </tr>\n    <tr>\n      <th>Num_H_Acceptors_Lipinski</th>\n      <td>NaN</td>\n      <td>NaN</td>\n      <td>NaN</td>\n    </tr>\n    <tr>\n      <th>ES_Sum_aaN</th>\n      <td>NaN</td>\n      <td>NaN</td>\n      <td>NaN</td>\n    </tr>\n    <tr>\n      <th>F_Count</th>\n      <td>NaN</td>\n      <td>NaN</td>\n      <td>NaN</td>\n    </tr>\n    <tr>\n      <th>ES_Sum_dsCH</th>\n      <td>NaN</td>\n      <td>NaN</td>\n      <td>NaN</td>\n    </tr>\n    <tr>\n      <th>ES_Sum_ssNH</th>\n      <td>NaN</td>\n      <td>NaN</td>\n      <td>NaN</td>\n    </tr>\n    <tr>\n      <th>ES_Sum_aaaC</th>\n      <td>NaN</td>\n      <td>NaN</td>\n      <td>NaN</td>\n    </tr>\n    <tr>\n      <th>Cl_Count</th>\n      <td>NaN</td>\n      <td>NaN</td>\n      <td>NaN</td>\n    </tr>\n    <tr>\n      <th>ES_Sum_ssssC</th>\n      <td>NaN</td>\n      <td>NaN</td>\n      <td>NaN</td>\n    </tr>\n  </tbody>\n</table>\n</div>"
     },
     "execution_count": 12,
     "metadata": {},
     "output_type": "execute_result"
    }
   ],
   "source": [
    "table3.query('dataset == \"All\" and num_stds == 1').drop(columns=['dataset', 'num_stds']).groupby('descriptors').agg('mean').round(4).T.sort_values('biochem', ascending=False)"
   ],
   "metadata": {
    "collapsed": false,
    "ExecuteTime": {
     "end_time": "2025-04-15T09:19:55.190599500Z",
     "start_time": "2025-04-15T09:19:55.075633Z"
    }
   },
   "id": "bdcb7c74b3ee4ff8"
  },
  {
   "cell_type": "markdown",
   "source": [
    "Obtain the second part of Figure 4D."
   ],
   "metadata": {
    "collapsed": false
   },
   "id": "3b0fa328620593b1"
  },
  {
   "cell_type": "code",
   "execution_count": 13,
   "outputs": [
    {
     "data": {
      "text/plain": "  0%|          | 0/3 [00:00<?, ?it/s]",
      "application/vnd.jupyter.widget-view+json": {
       "version_major": 2,
       "version_minor": 0,
       "model_id": "9343f640beca4b32ac1f43c9984b04ec"
      }
     },
     "metadata": {},
     "output_type": "display_data"
    }
   ],
   "source": [
    "table5 = []\n",
    "dataset  = 'All'\n",
    "for descriptors in tqdm(['bio', 'biochem', 'biospectra']):\n",
    "    for num_stds in range(1, 6):\n",
    "        x = data.query(f'dataset == \"{dataset}\" and descriptors == \"{descriptors}\" and num_stds == {num_stds}', engine='python')\n",
    "        results1 = {}\n",
    "        results2 = {}\n",
    "        for feature_name in chemfp_descs:\n",
    "            values = x.query(f'variable == \"{feature_name}\"', engine='python')[['samples added', 'value']]\n",
    "            if values.empty or values.shape[0] == 1:\n",
    "                results1[feature_name] = None\n",
    "            else:\n",
    "                auc = auc_fn(values['samples added']/250, values['value'])\n",
    "                slope = LinearRegression().fit(values['samples added'].values.reshape(-1, 1), values['value']).coef_.item()\n",
    "                results1[feature_name] = auc\n",
    "                results2[feature_name] = slope\n",
    "        results1 = pd.DataFrame([results1])\n",
    "        results1.insert(0, 'dataset', dataset)\n",
    "        results1.insert(1, 'descriptors', descriptors)\n",
    "        results1.insert(2, 'num_stds', num_stds)\n",
    "        table5.append(results1)\n",
    "        results2 = pd.DataFrame([results2])\n",
    "        results2.insert(0, 'dataset', dataset)\n",
    "        results2.insert(1, 'descriptors', descriptors)\n",
    "        results2.insert(2, 'num_stds', num_stds)\n",
    "\n",
    "table5 = pd.concat(table5)"
   ],
   "metadata": {
    "collapsed": false,
    "ExecuteTime": {
     "end_time": "2025-04-15T09:20:03.067528100Z",
     "start_time": "2025-04-15T09:19:55.192604100Z"
    }
   },
   "id": "ac8ea9b4df8a3efc"
  },
  {
   "cell_type": "code",
   "execution_count": 14,
   "outputs": [
    {
     "data": {
      "text/plain": "descriptors  bio biochem biospectra\nECFP_6_684   NaN  0.0027     0.0009\nECFP_6_594   NaN  0.0024     0.0004\nECFP_6_624   NaN  0.0008     0.0006\nECFP_6_1584  NaN  0.0008     0.0001\nECFP_6_299   NaN  0.0005        NaN\n...          ...     ...        ...\nECFP_6_1362  NaN     NaN        NaN\nECFP_6_1663  NaN     NaN        NaN\nECFP_6_168   NaN     NaN        NaN\nECFP_6_283   NaN     NaN        NaN\nECFP_6_1228  NaN     NaN        NaN\n\n[409 rows x 3 columns]",
      "text/html": "<div>\n<style scoped>\n    .dataframe tbody tr th:only-of-type {\n        vertical-align: middle;\n    }\n\n    .dataframe tbody tr th {\n        vertical-align: top;\n    }\n\n    .dataframe thead th {\n        text-align: right;\n    }\n</style>\n<table border=\"1\" class=\"dataframe\">\n  <thead>\n    <tr style=\"text-align: right;\">\n      <th>descriptors</th>\n      <th>bio</th>\n      <th>biochem</th>\n      <th>biospectra</th>\n    </tr>\n  </thead>\n  <tbody>\n    <tr>\n      <th>ECFP_6_684</th>\n      <td>NaN</td>\n      <td>0.0027</td>\n      <td>0.0009</td>\n    </tr>\n    <tr>\n      <th>ECFP_6_594</th>\n      <td>NaN</td>\n      <td>0.0024</td>\n      <td>0.0004</td>\n    </tr>\n    <tr>\n      <th>ECFP_6_624</th>\n      <td>NaN</td>\n      <td>0.0008</td>\n      <td>0.0006</td>\n    </tr>\n    <tr>\n      <th>ECFP_6_1584</th>\n      <td>NaN</td>\n      <td>0.0008</td>\n      <td>0.0001</td>\n    </tr>\n    <tr>\n      <th>ECFP_6_299</th>\n      <td>NaN</td>\n      <td>0.0005</td>\n      <td>NaN</td>\n    </tr>\n    <tr>\n      <th>...</th>\n      <td>...</td>\n      <td>...</td>\n      <td>...</td>\n    </tr>\n    <tr>\n      <th>ECFP_6_1362</th>\n      <td>NaN</td>\n      <td>NaN</td>\n      <td>NaN</td>\n    </tr>\n    <tr>\n      <th>ECFP_6_1663</th>\n      <td>NaN</td>\n      <td>NaN</td>\n      <td>NaN</td>\n    </tr>\n    <tr>\n      <th>ECFP_6_168</th>\n      <td>NaN</td>\n      <td>NaN</td>\n      <td>NaN</td>\n    </tr>\n    <tr>\n      <th>ECFP_6_283</th>\n      <td>NaN</td>\n      <td>NaN</td>\n      <td>NaN</td>\n    </tr>\n    <tr>\n      <th>ECFP_6_1228</th>\n      <td>NaN</td>\n      <td>NaN</td>\n      <td>NaN</td>\n    </tr>\n  </tbody>\n</table>\n<p>409 rows × 3 columns</p>\n</div>"
     },
     "execution_count": 14,
     "metadata": {},
     "output_type": "execute_result"
    }
   ],
   "source": [
    "table5.query('dataset == \"All\" and num_stds == 1').drop(columns=['dataset', 'num_stds']).groupby('descriptors').agg(\n",
    "    'mean').round(4).T.sort_values('biochem', ascending=False)"
   ],
   "metadata": {
    "collapsed": false,
    "ExecuteTime": {
     "end_time": "2025-04-15T09:20:03.279143600Z",
     "start_time": "2025-04-15T09:20:03.069529700Z"
    }
   },
   "id": "48da00424e0cbe30"
  },
  {
   "cell_type": "markdown",
   "source": [
    "Obtain Figure 4E."
   ],
   "metadata": {
    "collapsed": false
   },
   "id": "2c767da7932f1cc4"
  },
  {
   "cell_type": "code",
   "execution_count": 15,
   "outputs": [],
   "source": [
    "proteins = pd.read_csv(f'{DATA_FOLDER}/05.7_combined_set_protein_targets.tsv.xz', sep='\\t')\n",
    "human_proteins = proteins.query('Organism == \"Homo sapiens (Human)\"')\n",
    "human_data = data.query('variable in @human_proteins.target_id')\n",
    "data_organism = data.merge(proteins[['target_id', 'Organism', 'Classification']], left_on='variable', right_on='target_id')"
   ],
   "metadata": {
    "collapsed": false,
    "ExecuteTime": {
     "end_time": "2025-04-15T09:20:03.520594400Z",
     "start_time": "2025-04-15T09:20:03.271622800Z"
    }
   },
   "id": "aabeb119655a328f"
  },
  {
   "cell_type": "code",
   "execution_count": 16,
   "outputs": [
    {
     "data": {
      "text/plain": "  0%|          | 0/3 [00:00<?, ?it/s]",
      "application/vnd.jupyter.widget-view+json": {
       "version_major": 2,
       "version_minor": 0,
       "model_id": "86e569ffcd84434a915ba3bfa7680546"
      }
     },
     "metadata": {},
     "output_type": "display_data"
    }
   ],
   "source": [
    "table11 = []\n",
    "dataset  = 'All'\n",
    "for descriptors in tqdm(['bio', 'biochem', 'biospectra']):\n",
    "    for num_stds in range(1, 6):\n",
    "        x = data_organism.query(f'dataset == \"{dataset}\" and descriptors == \"{descriptors}\" and num_stds == {num_stds}', engine='python')\n",
    "        results1 = {}\n",
    "        results2 = {}\n",
    "        for organism in data_organism.Organism.unique():\n",
    "            tmp_org_proteins = data_organism.query('Organism  == \"' + organism + '\"').target_id\n",
    "            values = x.query(f'variable in @tmp_org_proteins', engine='python').groupby('samples added', as_index=False).sum()[['samples added', 'value']]\n",
    "            if values.empty or values.shape[0] == 1:\n",
    "                results1[organism] = None\n",
    "            else:\n",
    "                auc = auc_fn(values['samples added']/250, values['value'])\n",
    "                slope = LinearRegression().fit(values['samples added'].values.reshape(-1, 1), values['value']).coef_.item()\n",
    "                results1[organism] = auc\n",
    "                results2[organism] = slope\n",
    "        results1 = pd.DataFrame([results1])\n",
    "        results1.insert(0, 'dataset', dataset)\n",
    "        results1.insert(1, 'descriptors', descriptors)\n",
    "        results1.insert(2, 'num_stds', num_stds)\n",
    "        table11.append(results1)\n",
    "        results2 = pd.DataFrame([results2])\n",
    "        results2.insert(0, 'dataset', dataset)\n",
    "        results2.insert(1, 'descriptors', descriptors)\n",
    "        results2.insert(2, 'num_stds', num_stds)\n",
    "\n",
    "\n",
    "table11 = pd.concat(table11)"
   ],
   "metadata": {
    "collapsed": false,
    "ExecuteTime": {
     "end_time": "2025-04-15T09:20:18.460930100Z",
     "start_time": "2025-04-15T09:20:03.520594400Z"
    }
   },
   "id": "11a9aff7d9ccdb07"
  },
  {
   "cell_type": "code",
   "execution_count": 17,
   "outputs": [
    {
     "data": {
      "text/plain": "descriptors                                         bio biochem biospectra\nHomo sapiens (Human)                                NaN     NaN     0.0607\nEscherichia coli (strain K12)                       NaN     NaN     0.0188\nRattus norvegicus (Rat)                             NaN     NaN     0.0115\nMus musculus (Mouse)                                NaN     NaN     0.0112\nBacillus amyloliquefaciens (Bacillus velezensis)    NaN     NaN     0.0052\n...                                                 ...     ...        ...\nFlaveria bidentis (Coastal plain yellowtops) (E...  NaN     NaN        NaN\nStaphylococcus saprophyticus subsp. saprophytic...  NaN     NaN        NaN\nNorovirus Hu/GI/10360/2010/VNM                      NaN     NaN        NaN\nEmericella nidulans (Aspergillus nidulans)          NaN     NaN        NaN\nTrametes versicolor (White-rot fungus) (Coriolu...  NaN     NaN        NaN\n\n[267 rows x 3 columns]",
      "text/html": "<div>\n<style scoped>\n    .dataframe tbody tr th:only-of-type {\n        vertical-align: middle;\n    }\n\n    .dataframe tbody tr th {\n        vertical-align: top;\n    }\n\n    .dataframe thead th {\n        text-align: right;\n    }\n</style>\n<table border=\"1\" class=\"dataframe\">\n  <thead>\n    <tr style=\"text-align: right;\">\n      <th>descriptors</th>\n      <th>bio</th>\n      <th>biochem</th>\n      <th>biospectra</th>\n    </tr>\n  </thead>\n  <tbody>\n    <tr>\n      <th>Homo sapiens (Human)</th>\n      <td>NaN</td>\n      <td>NaN</td>\n      <td>0.0607</td>\n    </tr>\n    <tr>\n      <th>Escherichia coli (strain K12)</th>\n      <td>NaN</td>\n      <td>NaN</td>\n      <td>0.0188</td>\n    </tr>\n    <tr>\n      <th>Rattus norvegicus (Rat)</th>\n      <td>NaN</td>\n      <td>NaN</td>\n      <td>0.0115</td>\n    </tr>\n    <tr>\n      <th>Mus musculus (Mouse)</th>\n      <td>NaN</td>\n      <td>NaN</td>\n      <td>0.0112</td>\n    </tr>\n    <tr>\n      <th>Bacillus amyloliquefaciens (Bacillus velezensis)</th>\n      <td>NaN</td>\n      <td>NaN</td>\n      <td>0.0052</td>\n    </tr>\n    <tr>\n      <th>...</th>\n      <td>...</td>\n      <td>...</td>\n      <td>...</td>\n    </tr>\n    <tr>\n      <th>Flaveria bidentis (Coastal plain yellowtops) (Ethulia bidentis)</th>\n      <td>NaN</td>\n      <td>NaN</td>\n      <td>NaN</td>\n    </tr>\n    <tr>\n      <th>Staphylococcus saprophyticus subsp. saprophyticus (strain ATCC 15305 / DSM 20229 / NCIMB 8711 / NCTC 7292 / S-41)</th>\n      <td>NaN</td>\n      <td>NaN</td>\n      <td>NaN</td>\n    </tr>\n    <tr>\n      <th>Norovirus Hu/GI/10360/2010/VNM</th>\n      <td>NaN</td>\n      <td>NaN</td>\n      <td>NaN</td>\n    </tr>\n    <tr>\n      <th>Emericella nidulans (Aspergillus nidulans)</th>\n      <td>NaN</td>\n      <td>NaN</td>\n      <td>NaN</td>\n    </tr>\n    <tr>\n      <th>Trametes versicolor (White-rot fungus) (Coriolus versicolor)</th>\n      <td>NaN</td>\n      <td>NaN</td>\n      <td>NaN</td>\n    </tr>\n  </tbody>\n</table>\n<p>267 rows × 3 columns</p>\n</div>"
     },
     "execution_count": 17,
     "metadata": {},
     "output_type": "execute_result"
    }
   ],
   "source": [
    "table11.query('dataset == \"All\" and num_stds == 1').drop(columns=['dataset', 'num_stds']).groupby('descriptors').agg(\n",
    "    'mean').round(4).T.sort_values('biospectra', ascending=False)"
   ],
   "metadata": {
    "collapsed": false,
    "ExecuteTime": {
     "end_time": "2025-04-15T09:20:18.631619100Z",
     "start_time": "2025-04-15T09:20:18.460930100Z"
    }
   },
   "id": "6d755b122c047999"
  },
  {
   "cell_type": "markdown",
   "source": [
    "Obtain Figure 4F."
   ],
   "metadata": {
    "collapsed": false
   },
   "id": "448185a6857093ef"
  },
  {
   "cell_type": "code",
   "execution_count": 18,
   "outputs": [
    {
     "data": {
      "text/plain": "  0%|          | 0/3 [00:00<?, ?it/s]",
      "application/vnd.jupyter.widget-view+json": {
       "version_major": 2,
       "version_minor": 0,
       "model_id": "e799302a06f64814b02d38934a7ca9e8"
      }
     },
     "metadata": {},
     "output_type": "display_data"
    }
   ],
   "source": [
    "table9 = []\n",
    "dataset  = 'All'\n",
    "for descriptors in tqdm(['bio', 'biochem', 'biospectra']):\n",
    "    for num_stds in range(1, 6):\n",
    "        x = human_data.query(f'dataset == \"{dataset}\" and descriptors == \"{descriptors}\" and num_stds == {num_stds}', engine='python')\n",
    "        results1 = {}\n",
    "        results2 = {}\n",
    "        for feature_name in human_data.variable.unique():\n",
    "            values = x.query(f'variable == \"{feature_name}\"', engine='python')[['samples added', 'value']]\n",
    "            if values.empty or values.shape[0] == 1:\n",
    "                results1[feature_name] = None\n",
    "            else:\n",
    "                auc = auc_fn(values['samples added']/250, values['value'])\n",
    "                slope = LinearRegression().fit(values['samples added'].values.reshape(-1, 1), values['value']).coef_.item()\n",
    "                results1[feature_name] = auc\n",
    "                results2[feature_name] = slope\n",
    "        results1 = pd.DataFrame([results1])\n",
    "        results1.insert(0, 'dataset', dataset)\n",
    "        results1.insert(1, 'descriptors', descriptors)\n",
    "        results1.insert(2, 'num_stds', num_stds)\n",
    "        table9.append(results1)\n",
    "        results2 = pd.DataFrame([results2])\n",
    "        results2.insert(0, 'dataset', dataset)\n",
    "        results2.insert(1, 'descriptors', descriptors)\n",
    "        results2.insert(2, 'num_stds', num_stds)\n",
    "\n",
    "table9 = pd.concat(table9)"
   ],
   "metadata": {
    "collapsed": false,
    "ExecuteTime": {
     "end_time": "2025-04-15T09:20:43.155934Z",
     "start_time": "2025-04-15T09:20:18.633637200Z"
    }
   },
   "id": "e4846bdaf6862db4"
  },
  {
   "cell_type": "code",
   "execution_count": 19,
   "outputs": [
    {
     "data": {
      "text/plain": "descriptors  bio biochem biospectra\nQ9BTE7_WT    NaN     NaN     0.0029\nQ6R6M4_WT    NaN     NaN     0.0027\nQ01469_WT    NaN     NaN     0.0025\nP62081_WT    NaN     NaN     0.0019\nP54577_WT    NaN     NaN     0.0019\n...          ...     ...        ...\nO75388_WT    NaN     NaN        NaN\nP07203_WT    NaN     NaN        NaN\nP16455_WT    NaN     NaN        NaN\nQ15843_WT    NaN     NaN        NaN\nQ99759_WT    NaN     NaN        NaN\n\n[1386 rows x 3 columns]",
      "text/html": "<div>\n<style scoped>\n    .dataframe tbody tr th:only-of-type {\n        vertical-align: middle;\n    }\n\n    .dataframe tbody tr th {\n        vertical-align: top;\n    }\n\n    .dataframe thead th {\n        text-align: right;\n    }\n</style>\n<table border=\"1\" class=\"dataframe\">\n  <thead>\n    <tr style=\"text-align: right;\">\n      <th>descriptors</th>\n      <th>bio</th>\n      <th>biochem</th>\n      <th>biospectra</th>\n    </tr>\n  </thead>\n  <tbody>\n    <tr>\n      <th>Q9BTE7_WT</th>\n      <td>NaN</td>\n      <td>NaN</td>\n      <td>0.0029</td>\n    </tr>\n    <tr>\n      <th>Q6R6M4_WT</th>\n      <td>NaN</td>\n      <td>NaN</td>\n      <td>0.0027</td>\n    </tr>\n    <tr>\n      <th>Q01469_WT</th>\n      <td>NaN</td>\n      <td>NaN</td>\n      <td>0.0025</td>\n    </tr>\n    <tr>\n      <th>P62081_WT</th>\n      <td>NaN</td>\n      <td>NaN</td>\n      <td>0.0019</td>\n    </tr>\n    <tr>\n      <th>P54577_WT</th>\n      <td>NaN</td>\n      <td>NaN</td>\n      <td>0.0019</td>\n    </tr>\n    <tr>\n      <th>...</th>\n      <td>...</td>\n      <td>...</td>\n      <td>...</td>\n    </tr>\n    <tr>\n      <th>O75388_WT</th>\n      <td>NaN</td>\n      <td>NaN</td>\n      <td>NaN</td>\n    </tr>\n    <tr>\n      <th>P07203_WT</th>\n      <td>NaN</td>\n      <td>NaN</td>\n      <td>NaN</td>\n    </tr>\n    <tr>\n      <th>P16455_WT</th>\n      <td>NaN</td>\n      <td>NaN</td>\n      <td>NaN</td>\n    </tr>\n    <tr>\n      <th>Q15843_WT</th>\n      <td>NaN</td>\n      <td>NaN</td>\n      <td>NaN</td>\n    </tr>\n    <tr>\n      <th>Q99759_WT</th>\n      <td>NaN</td>\n      <td>NaN</td>\n      <td>NaN</td>\n    </tr>\n  </tbody>\n</table>\n<p>1386 rows × 3 columns</p>\n</div>"
     },
     "execution_count": 19,
     "metadata": {},
     "output_type": "execute_result"
    }
   ],
   "source": [
    "table9.query('dataset == \"All\" and num_stds == 1').drop(columns=['dataset', 'num_stds']).groupby('descriptors').agg(\n",
    "    'mean').round(4).T.sort_values('biospectra', ascending=False)"
   ],
   "metadata": {
    "collapsed": false,
    "ExecuteTime": {
     "end_time": "2025-04-15T09:20:43.730385600Z",
     "start_time": "2025-04-15T09:20:43.152953300Z"
    }
   },
   "id": "c6e03e59a5f58564"
  },
  {
   "cell_type": "markdown",
   "source": [
    "Obtain Supp. Tables 2 to 6."
   ],
   "metadata": {
    "collapsed": false
   },
   "id": "bd44d8b63e73a47f"
  },
  {
   "cell_type": "code",
   "execution_count": 20,
   "outputs": [],
   "source": [
    "ttperfs = pd.read_feather(fr'{OUT_FOLDER}/Analysis_DILI_num_samples_to_high_specificity.feather')"
   ],
   "metadata": {
    "collapsed": false,
    "ExecuteTime": {
     "end_time": "2025-04-15T09:20:43.847255Z",
     "start_time": "2025-04-15T09:20:43.720478100Z"
    }
   },
   "id": "92ae2648834c62c6"
  },
  {
   "cell_type": "code",
   "execution_count": 21,
   "outputs": [
    {
     "data": {
      "text/plain": "                                       baseline  #samples Spe > 0.70  \\\ndataset    num_stds descriptor metric                                  \nAll        1        bio        MCC     0.062779                   30   \n                               BAcc    0.519000                   30   \n                               Sen     0.991333                   30   \n                               Spe     0.046667                   30   \n                    biochem    MCC     0.048075                   30   \n...                                         ...                  ...   \nNumObjects 1        biochem    Spe     0.082222                   30   \n                    biospectra MCC     0.065587                   60   \n                               BAcc    0.520444                   60   \n                               Sen     0.992000                   60   \n                               Spe     0.048889                   60   \n\n                                       perf at Spe > 0.70  \\\ndataset    num_stds descriptor metric                       \nAll        1        bio        MCC               0.734304   \n                               BAcc              0.838667   \n                               Sen               0.968000   \n                               Spe               0.709333   \n                    biochem    MCC               0.724414   \n...                                                   ...   \nNumObjects 1        biochem    Spe               0.722519   \n                    biospectra MCC               0.597147   \n                               BAcc              0.793250   \n                               Sen               0.844667   \n                               Spe               0.741833   \n\n                                       #samples Spe > 0.80  \\\ndataset    num_stds descriptor metric                        \nAll        1        bio        MCC                      40   \n                               BAcc                     40   \n                               Sen                      40   \n                               Spe                      40   \n                    biochem    MCC                      40   \n...                                                    ...   \nNumObjects 1        biochem    Spe                      40   \n                    biospectra MCC                      70   \n                               BAcc                     70   \n                               Sen                      70   \n                               Spe                      70   \n\n                                       perf at Spe > 0.80  \\\ndataset    num_stds descriptor metric                       \nAll        1        bio        MCC               0.792534   \n                               BAcc              0.882990   \n                               Sen               0.954667   \n                               Spe               0.811313   \n                    biochem    MCC               0.790802   \n...                                                   ...   \nNumObjects 1        biochem    Spe               0.830909   \n                    biospectra MCC               0.652399   \n                               BAcc              0.824423   \n                               Sen               0.826667   \n                               Spe               0.822179   \n\n                                       #samples Spe > 0.90  \\\ndataset    num_stds descriptor metric                        \nAll        1        bio        MCC                      80   \n                               BAcc                     80   \n                               Sen                      80   \n                               Spe                      80   \n                    biochem    MCC                      80   \n...                                                    ...   \nNumObjects 1        biochem    Spe                      60   \n                    biospectra MCC                      90   \n                               BAcc                     90   \n                               Sen                      90   \n                               Spe                      90   \n\n                                       perf at Spe > 0.90  \\\ndataset    num_stds descriptor metric                       \nAll        1        bio        MCC               0.863169   \n                               BAcc              0.929281   \n                               Sen               0.944000   \n                               Spe               0.914561   \n                    biochem    MCC               0.858846   \n...                                                   ...   \nNumObjects 1        biochem    Spe               0.913889   \n                    biospectra MCC               0.745060   \n                               BAcc              0.867834   \n                               Sen               0.819333   \n                               Spe               0.916335   \n\n                                       #samples Spe > 0.95  perf at Spe > 0.95  \ndataset    num_stds descriptor metric                                           \nAll        1        bio        MCC                   110.0            0.896986  \n                               BAcc                  110.0            0.946933  \n                               Sen                   110.0            0.937333  \n                               Spe                   110.0            0.956533  \n                    biochem    MCC                   110.0            0.905740  \n...                                                    ...                 ...  \nNumObjects 1        biochem    Spe                   100.0            0.959275  \n                    biospectra MCC                   120.0            0.762189  \n                               BAcc                  120.0            0.867132  \n                               Sen                   120.0            0.774000  \n                               Spe                   120.0            0.960265  \n\n[132 rows x 9 columns]",
      "text/html": "<div>\n<style scoped>\n    .dataframe tbody tr th:only-of-type {\n        vertical-align: middle;\n    }\n\n    .dataframe tbody tr th {\n        vertical-align: top;\n    }\n\n    .dataframe thead th {\n        text-align: right;\n    }\n</style>\n<table border=\"1\" class=\"dataframe\">\n  <thead>\n    <tr style=\"text-align: right;\">\n      <th></th>\n      <th></th>\n      <th></th>\n      <th></th>\n      <th>baseline</th>\n      <th>#samples Spe &gt; 0.70</th>\n      <th>perf at Spe &gt; 0.70</th>\n      <th>#samples Spe &gt; 0.80</th>\n      <th>perf at Spe &gt; 0.80</th>\n      <th>#samples Spe &gt; 0.90</th>\n      <th>perf at Spe &gt; 0.90</th>\n      <th>#samples Spe &gt; 0.95</th>\n      <th>perf at Spe &gt; 0.95</th>\n    </tr>\n    <tr>\n      <th>dataset</th>\n      <th>num_stds</th>\n      <th>descriptor</th>\n      <th>metric</th>\n      <th></th>\n      <th></th>\n      <th></th>\n      <th></th>\n      <th></th>\n      <th></th>\n      <th></th>\n      <th></th>\n      <th></th>\n    </tr>\n  </thead>\n  <tbody>\n    <tr>\n      <th rowspan=\"5\" valign=\"top\">All</th>\n      <th rowspan=\"5\" valign=\"top\">1</th>\n      <th rowspan=\"4\" valign=\"top\">bio</th>\n      <th>MCC</th>\n      <td>0.062779</td>\n      <td>30</td>\n      <td>0.734304</td>\n      <td>40</td>\n      <td>0.792534</td>\n      <td>80</td>\n      <td>0.863169</td>\n      <td>110.0</td>\n      <td>0.896986</td>\n    </tr>\n    <tr>\n      <th>BAcc</th>\n      <td>0.519000</td>\n      <td>30</td>\n      <td>0.838667</td>\n      <td>40</td>\n      <td>0.882990</td>\n      <td>80</td>\n      <td>0.929281</td>\n      <td>110.0</td>\n      <td>0.946933</td>\n    </tr>\n    <tr>\n      <th>Sen</th>\n      <td>0.991333</td>\n      <td>30</td>\n      <td>0.968000</td>\n      <td>40</td>\n      <td>0.954667</td>\n      <td>80</td>\n      <td>0.944000</td>\n      <td>110.0</td>\n      <td>0.937333</td>\n    </tr>\n    <tr>\n      <th>Spe</th>\n      <td>0.046667</td>\n      <td>30</td>\n      <td>0.709333</td>\n      <td>40</td>\n      <td>0.811313</td>\n      <td>80</td>\n      <td>0.914561</td>\n      <td>110.0</td>\n      <td>0.956533</td>\n    </tr>\n    <tr>\n      <th>biochem</th>\n      <th>MCC</th>\n      <td>0.048075</td>\n      <td>30</td>\n      <td>0.724414</td>\n      <td>40</td>\n      <td>0.790802</td>\n      <td>80</td>\n      <td>0.858846</td>\n      <td>110.0</td>\n      <td>0.905740</td>\n    </tr>\n    <tr>\n      <th>...</th>\n      <th>...</th>\n      <th>...</th>\n      <th>...</th>\n      <td>...</td>\n      <td>...</td>\n      <td>...</td>\n      <td>...</td>\n      <td>...</td>\n      <td>...</td>\n      <td>...</td>\n      <td>...</td>\n      <td>...</td>\n    </tr>\n    <tr>\n      <th rowspan=\"5\" valign=\"top\">NumObjects</th>\n      <th rowspan=\"5\" valign=\"top\">1</th>\n      <th>biochem</th>\n      <th>Spe</th>\n      <td>0.082222</td>\n      <td>30</td>\n      <td>0.722519</td>\n      <td>40</td>\n      <td>0.830909</td>\n      <td>60</td>\n      <td>0.913889</td>\n      <td>100.0</td>\n      <td>0.959275</td>\n    </tr>\n    <tr>\n      <th rowspan=\"4\" valign=\"top\">biospectra</th>\n      <th>MCC</th>\n      <td>0.065587</td>\n      <td>60</td>\n      <td>0.597147</td>\n      <td>70</td>\n      <td>0.652399</td>\n      <td>90</td>\n      <td>0.745060</td>\n      <td>120.0</td>\n      <td>0.762189</td>\n    </tr>\n    <tr>\n      <th>BAcc</th>\n      <td>0.520444</td>\n      <td>60</td>\n      <td>0.793250</td>\n      <td>70</td>\n      <td>0.824423</td>\n      <td>90</td>\n      <td>0.867834</td>\n      <td>120.0</td>\n      <td>0.867132</td>\n    </tr>\n    <tr>\n      <th>Sen</th>\n      <td>0.992000</td>\n      <td>60</td>\n      <td>0.844667</td>\n      <td>70</td>\n      <td>0.826667</td>\n      <td>90</td>\n      <td>0.819333</td>\n      <td>120.0</td>\n      <td>0.774000</td>\n    </tr>\n    <tr>\n      <th>Spe</th>\n      <td>0.048889</td>\n      <td>60</td>\n      <td>0.741833</td>\n      <td>70</td>\n      <td>0.822179</td>\n      <td>90</td>\n      <td>0.916335</td>\n      <td>120.0</td>\n      <td>0.960265</td>\n    </tr>\n  </tbody>\n</table>\n<p>132 rows × 9 columns</p>\n</div>"
     },
     "execution_count": 21,
     "metadata": {},
     "output_type": "execute_result"
    }
   ],
   "source": [
    "ttperfs.query('num_stds == 1')"
   ],
   "metadata": {
    "collapsed": false,
    "ExecuteTime": {
     "end_time": "2025-04-15T09:20:43.933216400Z",
     "start_time": "2025-04-15T09:20:43.822239Z"
    }
   },
   "id": "ed957955c9de40c2"
  },
  {
   "cell_type": "code",
   "execution_count": 22,
   "outputs": [
    {
     "data": {
      "text/plain": "                                       baseline  #samples Spe > 0.70  \\\ndataset    num_stds descriptor metric                                  \nAll        2        bio        MCC     0.062779                   40   \n                               BAcc    0.519000                   40   \n                               Sen     0.991333                   40   \n                               Spe     0.046667                   40   \n                    biochem    MCC     0.048075                   40   \n...                                         ...                  ...   \nNumObjects 2        biochem    Spe     0.074444                   30   \n                    biospectra MCC     0.062884                   60   \n                               BAcc    0.519111                   60   \n                               Sen     0.992667                   60   \n                               Spe     0.045556                   60   \n\n                                       perf at Spe > 0.70  \\\ndataset    num_stds descriptor metric                       \nAll        2        bio        MCC               0.764027   \n                               BAcc              0.861626   \n                               Sen               0.961333   \n                               Spe               0.761919   \n                    biochem    MCC               0.756279   \n...                                                   ...   \nNumObjects 2        biochem    Spe               0.703704   \n                    biospectra MCC               0.616787   \n                               BAcc              0.803472   \n                               Sen               0.850667   \n                               Spe               0.756278   \n\n                                       #samples Spe > 0.80  \\\ndataset    num_stds descriptor metric                        \nAll        2        bio        MCC                      50   \n                               BAcc                     50   \n                               Sen                      50   \n                               Spe                      50   \n                    biochem    MCC                      50   \n...                                                    ...   \nNumObjects 2        biochem    Spe                      50   \n                    biospectra MCC                      70   \n                               BAcc                     70   \n                               Sen                      70   \n                               Spe                      70   \n\n                                       perf at Spe > 0.80  \\\ndataset    num_stds descriptor metric                       \nAll        2        bio        MCC               0.803930   \n                               BAcc              0.892659   \n                               Sen               0.950667   \n                               Spe               0.834652   \n                    biochem    MCC               0.810971   \n...                                                   ...   \nNumObjects 2        biochem    Spe               0.865275   \n                    biospectra MCC               0.645934   \n                               BAcc              0.819932   \n                               Sen               0.822000   \n                               Spe               0.817865   \n\n                                       #samples Spe > 0.90  \\\ndataset    num_stds descriptor metric                        \nAll        2        bio        MCC                      70   \n                               BAcc                     70   \n                               Sen                      70   \n                               Spe                      70   \n                    biochem    MCC                      70   \n...                                                    ...   \nNumObjects 2        biochem    Spe                      70   \n                    biospectra MCC                      90   \n                               BAcc                     90   \n                               Sen                      90   \n                               Spe                      90   \n\n                                       perf at Spe > 0.90  \\\ndataset    num_stds descriptor metric                       \nAll        2        bio        MCC               0.866073   \n                               BAcc              0.929510   \n                               Sen               0.956667   \n                               Spe               0.902353   \n                    biochem    MCC               0.862942   \n...                                                   ...   \nNumObjects 2        biochem    Spe               0.910850   \n                    biospectra MCC               0.756264   \n                               BAcc              0.873511   \n                               Sen               0.822000   \n                               Spe               0.925022   \n\n                                       #samples Spe > 0.95  perf at Spe > 0.95  \ndataset    num_stds descriptor metric                                           \nAll        2        bio        MCC                   100.0            0.910876  \n                               BAcc                  100.0            0.954244  \n                               Sen                   100.0            0.949333  \n                               Spe                   100.0            0.959155  \n                    biochem    MCC                   100.0            0.904814  \n...                                                    ...                 ...  \nNumObjects 2        biochem    Spe                   110.0            0.968923  \n                    biospectra MCC                   120.0            0.781161  \n                               BAcc                  120.0            0.877055  \n                               Sen                   120.0            0.790000  \n                               Spe                   120.0            0.964109  \n\n[132 rows x 9 columns]",
      "text/html": "<div>\n<style scoped>\n    .dataframe tbody tr th:only-of-type {\n        vertical-align: middle;\n    }\n\n    .dataframe tbody tr th {\n        vertical-align: top;\n    }\n\n    .dataframe thead th {\n        text-align: right;\n    }\n</style>\n<table border=\"1\" class=\"dataframe\">\n  <thead>\n    <tr style=\"text-align: right;\">\n      <th></th>\n      <th></th>\n      <th></th>\n      <th></th>\n      <th>baseline</th>\n      <th>#samples Spe &gt; 0.70</th>\n      <th>perf at Spe &gt; 0.70</th>\n      <th>#samples Spe &gt; 0.80</th>\n      <th>perf at Spe &gt; 0.80</th>\n      <th>#samples Spe &gt; 0.90</th>\n      <th>perf at Spe &gt; 0.90</th>\n      <th>#samples Spe &gt; 0.95</th>\n      <th>perf at Spe &gt; 0.95</th>\n    </tr>\n    <tr>\n      <th>dataset</th>\n      <th>num_stds</th>\n      <th>descriptor</th>\n      <th>metric</th>\n      <th></th>\n      <th></th>\n      <th></th>\n      <th></th>\n      <th></th>\n      <th></th>\n      <th></th>\n      <th></th>\n      <th></th>\n    </tr>\n  </thead>\n  <tbody>\n    <tr>\n      <th rowspan=\"5\" valign=\"top\">All</th>\n      <th rowspan=\"5\" valign=\"top\">2</th>\n      <th rowspan=\"4\" valign=\"top\">bio</th>\n      <th>MCC</th>\n      <td>0.062779</td>\n      <td>40</td>\n      <td>0.764027</td>\n      <td>50</td>\n      <td>0.803930</td>\n      <td>70</td>\n      <td>0.866073</td>\n      <td>100.0</td>\n      <td>0.910876</td>\n    </tr>\n    <tr>\n      <th>BAcc</th>\n      <td>0.519000</td>\n      <td>40</td>\n      <td>0.861626</td>\n      <td>50</td>\n      <td>0.892659</td>\n      <td>70</td>\n      <td>0.929510</td>\n      <td>100.0</td>\n      <td>0.954244</td>\n    </tr>\n    <tr>\n      <th>Sen</th>\n      <td>0.991333</td>\n      <td>40</td>\n      <td>0.961333</td>\n      <td>50</td>\n      <td>0.950667</td>\n      <td>70</td>\n      <td>0.956667</td>\n      <td>100.0</td>\n      <td>0.949333</td>\n    </tr>\n    <tr>\n      <th>Spe</th>\n      <td>0.046667</td>\n      <td>40</td>\n      <td>0.761919</td>\n      <td>50</td>\n      <td>0.834652</td>\n      <td>70</td>\n      <td>0.902353</td>\n      <td>100.0</td>\n      <td>0.959155</td>\n    </tr>\n    <tr>\n      <th>biochem</th>\n      <th>MCC</th>\n      <td>0.048075</td>\n      <td>40</td>\n      <td>0.756279</td>\n      <td>50</td>\n      <td>0.810971</td>\n      <td>70</td>\n      <td>0.862942</td>\n      <td>100.0</td>\n      <td>0.904814</td>\n    </tr>\n    <tr>\n      <th>...</th>\n      <th>...</th>\n      <th>...</th>\n      <th>...</th>\n      <td>...</td>\n      <td>...</td>\n      <td>...</td>\n      <td>...</td>\n      <td>...</td>\n      <td>...</td>\n      <td>...</td>\n      <td>...</td>\n      <td>...</td>\n    </tr>\n    <tr>\n      <th rowspan=\"5\" valign=\"top\">NumObjects</th>\n      <th rowspan=\"5\" valign=\"top\">2</th>\n      <th>biochem</th>\n      <th>Spe</th>\n      <td>0.074444</td>\n      <td>30</td>\n      <td>0.703704</td>\n      <td>50</td>\n      <td>0.865275</td>\n      <td>70</td>\n      <td>0.910850</td>\n      <td>110.0</td>\n      <td>0.968923</td>\n    </tr>\n    <tr>\n      <th rowspan=\"4\" valign=\"top\">biospectra</th>\n      <th>MCC</th>\n      <td>0.062884</td>\n      <td>60</td>\n      <td>0.616787</td>\n      <td>70</td>\n      <td>0.645934</td>\n      <td>90</td>\n      <td>0.756264</td>\n      <td>120.0</td>\n      <td>0.781161</td>\n    </tr>\n    <tr>\n      <th>BAcc</th>\n      <td>0.519111</td>\n      <td>60</td>\n      <td>0.803472</td>\n      <td>70</td>\n      <td>0.819932</td>\n      <td>90</td>\n      <td>0.873511</td>\n      <td>120.0</td>\n      <td>0.877055</td>\n    </tr>\n    <tr>\n      <th>Sen</th>\n      <td>0.992667</td>\n      <td>60</td>\n      <td>0.850667</td>\n      <td>70</td>\n      <td>0.822000</td>\n      <td>90</td>\n      <td>0.822000</td>\n      <td>120.0</td>\n      <td>0.790000</td>\n    </tr>\n    <tr>\n      <th>Spe</th>\n      <td>0.045556</td>\n      <td>60</td>\n      <td>0.756278</td>\n      <td>70</td>\n      <td>0.817865</td>\n      <td>90</td>\n      <td>0.925022</td>\n      <td>120.0</td>\n      <td>0.964109</td>\n    </tr>\n  </tbody>\n</table>\n<p>132 rows × 9 columns</p>\n</div>"
     },
     "execution_count": 22,
     "metadata": {},
     "output_type": "execute_result"
    }
   ],
   "source": [
    "ttperfs.query('num_stds == 2')"
   ],
   "metadata": {
    "collapsed": false,
    "ExecuteTime": {
     "end_time": "2025-04-15T09:20:44.083702100Z",
     "start_time": "2025-04-15T09:20:43.924874Z"
    }
   },
   "id": "346ceb1b0b8f5e61"
  },
  {
   "cell_type": "code",
   "execution_count": 23,
   "outputs": [
    {
     "data": {
      "text/plain": "                                       baseline  #samples Spe > 0.70  \\\ndataset    num_stds descriptor metric                                  \nAll        3        bio        MCC     0.062779                   40   \n                               BAcc    0.519000                   40   \n                               Sen     0.991333                   40   \n                               Spe     0.046667                   40   \n                    biochem    MCC     0.048075                   40   \n...                                         ...                  ...   \nNumObjects 3        biochem    Spe     0.112222                   40   \n                    biospectra MCC     0.078894                   60   \n                               BAcc    0.525000                   60   \n                               Sen     0.990000                   60   \n                               Spe     0.060000                   60   \n\n                                       perf at Spe > 0.70  \\\ndataset    num_stds descriptor metric                       \nAll        3        bio        MCC               0.756405   \n                               BAcc              0.855909   \n                               Sen               0.966667   \n                               Spe               0.745152   \n                    biochem    MCC               0.741977   \n...                                                   ...   \nNumObjects 3        biochem    Spe               0.757677   \n                    biospectra MCC               0.638946   \n                               BAcc              0.814139   \n                               Sen               0.863333   \n                               Spe               0.764944   \n\n                                       #samples Spe > 0.80  \\\ndataset    num_stds descriptor metric                        \nAll        3        bio        MCC                      60   \n                               BAcc                     60   \n                               Sen                      60   \n                               Spe                      60   \n                    biochem    MCC                      60   \n...                                                    ...   \nNumObjects 3        biochem    Spe                      60   \n                    biospectra MCC                      70   \n                               BAcc                     70   \n                               Sen                      70   \n                               Spe                      70   \n\n                                       perf at Spe > 0.80  \\\ndataset    num_stds descriptor metric                       \nAll        3        bio        MCC               0.812878   \n                               BAcc              0.898472   \n                               Sen               0.952000   \n                               Spe               0.844944   \n                    biochem    MCC               0.821743   \n...                                                   ...   \nNumObjects 3        biochem    Spe               0.858000   \n                    biospectra MCC               0.677174   \n                               BAcc              0.836020   \n                               Sen               0.840667   \n                               Spe               0.831373   \n\n                                       #samples Spe > 0.90  \\\ndataset    num_stds descriptor metric                        \nAll        3        bio        MCC                      80   \n                               BAcc                     80   \n                               Sen                      80   \n                               Spe                      80   \n                    biochem    MCC                      80   \n...                                                    ...   \nNumObjects 3        biochem    Spe                      70   \n                    biospectra MCC                     100   \n                               BAcc                    100   \n                               Sen                     100   \n                               Spe                     100   \n\n                                       perf at Spe > 0.90  \\\ndataset    num_stds descriptor metric                       \nAll        3        bio        MCC               0.870406   \n                               BAcc              0.932860   \n                               Sen               0.954000   \n                               Spe               0.911719   \n                    biochem    MCC               0.869050   \n...                                                   ...   \nNumObjects 3        biochem    Spe               0.905316   \n                    biospectra MCC               0.754464   \n                               BAcc              0.871348   \n                               Sen               0.820667   \n                               Spe               0.922029   \n\n                                       #samples Spe > 0.95  perf at Spe > 0.95  \ndataset    num_stds descriptor metric                                           \nAll        3        bio        MCC                   100.0            0.902910  \n                               BAcc                  100.0            0.950222  \n                               Sen                   100.0            0.949333  \n                               Spe                   100.0            0.951111  \n                    biochem    MCC                   100.0            0.904439  \n...                                                    ...                 ...  \nNumObjects 3        biochem    Spe                   110.0            0.955508  \n                    biospectra MCC                   140.0            0.807737  \n                               BAcc                  140.0            0.889026  \n                               Sen                   140.0            0.806667  \n                               Spe                   140.0            0.971384  \n\n[132 rows x 9 columns]",
      "text/html": "<div>\n<style scoped>\n    .dataframe tbody tr th:only-of-type {\n        vertical-align: middle;\n    }\n\n    .dataframe tbody tr th {\n        vertical-align: top;\n    }\n\n    .dataframe thead th {\n        text-align: right;\n    }\n</style>\n<table border=\"1\" class=\"dataframe\">\n  <thead>\n    <tr style=\"text-align: right;\">\n      <th></th>\n      <th></th>\n      <th></th>\n      <th></th>\n      <th>baseline</th>\n      <th>#samples Spe &gt; 0.70</th>\n      <th>perf at Spe &gt; 0.70</th>\n      <th>#samples Spe &gt; 0.80</th>\n      <th>perf at Spe &gt; 0.80</th>\n      <th>#samples Spe &gt; 0.90</th>\n      <th>perf at Spe &gt; 0.90</th>\n      <th>#samples Spe &gt; 0.95</th>\n      <th>perf at Spe &gt; 0.95</th>\n    </tr>\n    <tr>\n      <th>dataset</th>\n      <th>num_stds</th>\n      <th>descriptor</th>\n      <th>metric</th>\n      <th></th>\n      <th></th>\n      <th></th>\n      <th></th>\n      <th></th>\n      <th></th>\n      <th></th>\n      <th></th>\n      <th></th>\n    </tr>\n  </thead>\n  <tbody>\n    <tr>\n      <th rowspan=\"5\" valign=\"top\">All</th>\n      <th rowspan=\"5\" valign=\"top\">3</th>\n      <th rowspan=\"4\" valign=\"top\">bio</th>\n      <th>MCC</th>\n      <td>0.062779</td>\n      <td>40</td>\n      <td>0.756405</td>\n      <td>60</td>\n      <td>0.812878</td>\n      <td>80</td>\n      <td>0.870406</td>\n      <td>100.0</td>\n      <td>0.902910</td>\n    </tr>\n    <tr>\n      <th>BAcc</th>\n      <td>0.519000</td>\n      <td>40</td>\n      <td>0.855909</td>\n      <td>60</td>\n      <td>0.898472</td>\n      <td>80</td>\n      <td>0.932860</td>\n      <td>100.0</td>\n      <td>0.950222</td>\n    </tr>\n    <tr>\n      <th>Sen</th>\n      <td>0.991333</td>\n      <td>40</td>\n      <td>0.966667</td>\n      <td>60</td>\n      <td>0.952000</td>\n      <td>80</td>\n      <td>0.954000</td>\n      <td>100.0</td>\n      <td>0.949333</td>\n    </tr>\n    <tr>\n      <th>Spe</th>\n      <td>0.046667</td>\n      <td>40</td>\n      <td>0.745152</td>\n      <td>60</td>\n      <td>0.844944</td>\n      <td>80</td>\n      <td>0.911719</td>\n      <td>100.0</td>\n      <td>0.951111</td>\n    </tr>\n    <tr>\n      <th>biochem</th>\n      <th>MCC</th>\n      <td>0.048075</td>\n      <td>40</td>\n      <td>0.741977</td>\n      <td>60</td>\n      <td>0.821743</td>\n      <td>80</td>\n      <td>0.869050</td>\n      <td>100.0</td>\n      <td>0.904439</td>\n    </tr>\n    <tr>\n      <th>...</th>\n      <th>...</th>\n      <th>...</th>\n      <th>...</th>\n      <td>...</td>\n      <td>...</td>\n      <td>...</td>\n      <td>...</td>\n      <td>...</td>\n      <td>...</td>\n      <td>...</td>\n      <td>...</td>\n      <td>...</td>\n    </tr>\n    <tr>\n      <th rowspan=\"5\" valign=\"top\">NumObjects</th>\n      <th rowspan=\"5\" valign=\"top\">3</th>\n      <th>biochem</th>\n      <th>Spe</th>\n      <td>0.112222</td>\n      <td>40</td>\n      <td>0.757677</td>\n      <td>60</td>\n      <td>0.858000</td>\n      <td>70</td>\n      <td>0.905316</td>\n      <td>110.0</td>\n      <td>0.955508</td>\n    </tr>\n    <tr>\n      <th rowspan=\"4\" valign=\"top\">biospectra</th>\n      <th>MCC</th>\n      <td>0.078894</td>\n      <td>60</td>\n      <td>0.638946</td>\n      <td>70</td>\n      <td>0.677174</td>\n      <td>100</td>\n      <td>0.754464</td>\n      <td>140.0</td>\n      <td>0.807737</td>\n    </tr>\n    <tr>\n      <th>BAcc</th>\n      <td>0.525000</td>\n      <td>60</td>\n      <td>0.814139</td>\n      <td>70</td>\n      <td>0.836020</td>\n      <td>100</td>\n      <td>0.871348</td>\n      <td>140.0</td>\n      <td>0.889026</td>\n    </tr>\n    <tr>\n      <th>Sen</th>\n      <td>0.990000</td>\n      <td>60</td>\n      <td>0.863333</td>\n      <td>70</td>\n      <td>0.840667</td>\n      <td>100</td>\n      <td>0.820667</td>\n      <td>140.0</td>\n      <td>0.806667</td>\n    </tr>\n    <tr>\n      <th>Spe</th>\n      <td>0.060000</td>\n      <td>60</td>\n      <td>0.764944</td>\n      <td>70</td>\n      <td>0.831373</td>\n      <td>100</td>\n      <td>0.922029</td>\n      <td>140.0</td>\n      <td>0.971384</td>\n    </tr>\n  </tbody>\n</table>\n<p>132 rows × 9 columns</p>\n</div>"
     },
     "execution_count": 23,
     "metadata": {},
     "output_type": "execute_result"
    }
   ],
   "source": [
    "ttperfs.query('num_stds == 3')"
   ],
   "metadata": {
    "collapsed": false,
    "ExecuteTime": {
     "end_time": "2025-04-15T09:20:44.194345Z",
     "start_time": "2025-04-15T09:20:44.031821700Z"
    }
   },
   "id": "562a4ed5aef924e"
  },
  {
   "cell_type": "code",
   "execution_count": 24,
   "outputs": [
    {
     "data": {
      "text/plain": "                                       baseline  #samples Spe > 0.70  \\\ndataset    num_stds descriptor metric                                  \nAll        4        bio        MCC     0.062779                   40   \n                               BAcc    0.519000                   40   \n                               Sen     0.991333                   40   \n                               Spe     0.046667                   40   \n                    biochem    MCC     0.048075                   40   \n...                                         ...                  ...   \nNumObjects 4        biochem    Spe     0.074444                   40   \n                    biospectra MCC     0.074795                   50   \n                               BAcc    0.522222                   50   \n                               Sen     0.986667                   50   \n                               Spe     0.057778                   50   \n\n                                       perf at Spe > 0.70  \\\ndataset    num_stds descriptor metric                       \nAll        4        bio        MCC               0.740390   \n                               BAcc              0.846081   \n                               Sen               0.966000   \n                               Spe               0.726162   \n                    biochem    MCC               0.721714   \n...                                                   ...   \nNumObjects 4        biochem    Spe               0.746162   \n                    biospectra MCC               0.639147   \n                               BAcc              0.808256   \n                               Sen               0.896000   \n                               Spe               0.720513   \n\n                                       #samples Spe > 0.80  \\\ndataset    num_stds descriptor metric                        \nAll        4        bio        MCC                      60   \n                               BAcc                     60   \n                               Sen                      60   \n                               Spe                      60   \n                    biochem    MCC                      60   \n...                                                    ...   \nNumObjects 4        biochem    Spe                      50   \n                    biospectra MCC                      70   \n                               BAcc                     70   \n                               Sen                      70   \n                               Spe                      70   \n\n                                       perf at Spe > 0.80  \\\ndataset    num_stds descriptor metric                       \nAll        4        bio        MCC               0.801149   \n                               BAcc              0.892111   \n                               Sen               0.950667   \n                               Spe               0.833556   \n                    biochem    MCC               0.805938   \n...                                                   ...   \nNumObjects 4        biochem    Spe               0.801905   \n                    biospectra MCC               0.697724   \n                               BAcc              0.846416   \n                               Sen               0.856667   \n                               Spe               0.836166   \n\n                                       #samples Spe > 0.90  \\\ndataset    num_stds descriptor metric                        \nAll        4        bio        MCC                      90   \n                               BAcc                     90   \n                               Sen                      90   \n                               Spe                      90   \n                    biochem    MCC                      80   \n...                                                    ...   \nNumObjects 4        biochem    Spe                      90   \n                    biospectra MCC                     100   \n                               BAcc                    100   \n                               Sen                     100   \n                               Spe                     100   \n\n                                       perf at Spe > 0.90  \\\ndataset    num_stds descriptor metric                       \nAll        4        bio        MCC               0.857274   \n                               BAcc              0.926616   \n                               Sen               0.950000   \n                               Spe               0.903232   \n                    biochem    MCC               0.857681   \n...                                                   ...   \nNumObjects 4        biochem    Spe               0.910505   \n                    biospectra MCC               0.764787   \n                               BAcc              0.879205   \n                               Sen               0.848000   \n                               Spe               0.910411   \n\n                                       #samples Spe > 0.95  perf at Spe > 0.95  \ndataset    num_stds descriptor metric                                           \nAll        4        bio        MCC                   110.0            0.898812  \n                               BAcc                  110.0            0.948733  \n                               Sen                   110.0            0.947333  \n                               Spe                   110.0            0.950133  \n                    biochem    MCC                   110.0            0.902998  \n...                                                    ...                 ...  \nNumObjects 4        biochem    Spe                   120.0            0.950564  \n                    biospectra MCC                   140.0            0.804896  \n                               BAcc                  140.0            0.891198  \n                               Sen                   140.0            0.824667  \n                               Spe                   140.0            0.957728  \n\n[132 rows x 9 columns]",
      "text/html": "<div>\n<style scoped>\n    .dataframe tbody tr th:only-of-type {\n        vertical-align: middle;\n    }\n\n    .dataframe tbody tr th {\n        vertical-align: top;\n    }\n\n    .dataframe thead th {\n        text-align: right;\n    }\n</style>\n<table border=\"1\" class=\"dataframe\">\n  <thead>\n    <tr style=\"text-align: right;\">\n      <th></th>\n      <th></th>\n      <th></th>\n      <th></th>\n      <th>baseline</th>\n      <th>#samples Spe &gt; 0.70</th>\n      <th>perf at Spe &gt; 0.70</th>\n      <th>#samples Spe &gt; 0.80</th>\n      <th>perf at Spe &gt; 0.80</th>\n      <th>#samples Spe &gt; 0.90</th>\n      <th>perf at Spe &gt; 0.90</th>\n      <th>#samples Spe &gt; 0.95</th>\n      <th>perf at Spe &gt; 0.95</th>\n    </tr>\n    <tr>\n      <th>dataset</th>\n      <th>num_stds</th>\n      <th>descriptor</th>\n      <th>metric</th>\n      <th></th>\n      <th></th>\n      <th></th>\n      <th></th>\n      <th></th>\n      <th></th>\n      <th></th>\n      <th></th>\n      <th></th>\n    </tr>\n  </thead>\n  <tbody>\n    <tr>\n      <th rowspan=\"5\" valign=\"top\">All</th>\n      <th rowspan=\"5\" valign=\"top\">4</th>\n      <th rowspan=\"4\" valign=\"top\">bio</th>\n      <th>MCC</th>\n      <td>0.062779</td>\n      <td>40</td>\n      <td>0.740390</td>\n      <td>60</td>\n      <td>0.801149</td>\n      <td>90</td>\n      <td>0.857274</td>\n      <td>110.0</td>\n      <td>0.898812</td>\n    </tr>\n    <tr>\n      <th>BAcc</th>\n      <td>0.519000</td>\n      <td>40</td>\n      <td>0.846081</td>\n      <td>60</td>\n      <td>0.892111</td>\n      <td>90</td>\n      <td>0.926616</td>\n      <td>110.0</td>\n      <td>0.948733</td>\n    </tr>\n    <tr>\n      <th>Sen</th>\n      <td>0.991333</td>\n      <td>40</td>\n      <td>0.966000</td>\n      <td>60</td>\n      <td>0.950667</td>\n      <td>90</td>\n      <td>0.950000</td>\n      <td>110.0</td>\n      <td>0.947333</td>\n    </tr>\n    <tr>\n      <th>Spe</th>\n      <td>0.046667</td>\n      <td>40</td>\n      <td>0.726162</td>\n      <td>60</td>\n      <td>0.833556</td>\n      <td>90</td>\n      <td>0.903232</td>\n      <td>110.0</td>\n      <td>0.950133</td>\n    </tr>\n    <tr>\n      <th>biochem</th>\n      <th>MCC</th>\n      <td>0.048075</td>\n      <td>40</td>\n      <td>0.721714</td>\n      <td>60</td>\n      <td>0.805938</td>\n      <td>80</td>\n      <td>0.857681</td>\n      <td>110.0</td>\n      <td>0.902998</td>\n    </tr>\n    <tr>\n      <th>...</th>\n      <th>...</th>\n      <th>...</th>\n      <th>...</th>\n      <td>...</td>\n      <td>...</td>\n      <td>...</td>\n      <td>...</td>\n      <td>...</td>\n      <td>...</td>\n      <td>...</td>\n      <td>...</td>\n      <td>...</td>\n    </tr>\n    <tr>\n      <th rowspan=\"5\" valign=\"top\">NumObjects</th>\n      <th rowspan=\"5\" valign=\"top\">4</th>\n      <th>biochem</th>\n      <th>Spe</th>\n      <td>0.074444</td>\n      <td>40</td>\n      <td>0.746162</td>\n      <td>50</td>\n      <td>0.801905</td>\n      <td>90</td>\n      <td>0.910505</td>\n      <td>120.0</td>\n      <td>0.950564</td>\n    </tr>\n    <tr>\n      <th rowspan=\"4\" valign=\"top\">biospectra</th>\n      <th>MCC</th>\n      <td>0.074795</td>\n      <td>50</td>\n      <td>0.639147</td>\n      <td>70</td>\n      <td>0.697724</td>\n      <td>100</td>\n      <td>0.764787</td>\n      <td>140.0</td>\n      <td>0.804896</td>\n    </tr>\n    <tr>\n      <th>BAcc</th>\n      <td>0.522222</td>\n      <td>50</td>\n      <td>0.808256</td>\n      <td>70</td>\n      <td>0.846416</td>\n      <td>100</td>\n      <td>0.879205</td>\n      <td>140.0</td>\n      <td>0.891198</td>\n    </tr>\n    <tr>\n      <th>Sen</th>\n      <td>0.986667</td>\n      <td>50</td>\n      <td>0.896000</td>\n      <td>70</td>\n      <td>0.856667</td>\n      <td>100</td>\n      <td>0.848000</td>\n      <td>140.0</td>\n      <td>0.824667</td>\n    </tr>\n    <tr>\n      <th>Spe</th>\n      <td>0.057778</td>\n      <td>50</td>\n      <td>0.720513</td>\n      <td>70</td>\n      <td>0.836166</td>\n      <td>100</td>\n      <td>0.910411</td>\n      <td>140.0</td>\n      <td>0.957728</td>\n    </tr>\n  </tbody>\n</table>\n<p>132 rows × 9 columns</p>\n</div>"
     },
     "execution_count": 24,
     "metadata": {},
     "output_type": "execute_result"
    }
   ],
   "source": [
    "ttperfs.query('num_stds == 4')"
   ],
   "metadata": {
    "collapsed": false,
    "ExecuteTime": {
     "end_time": "2025-04-15T09:20:44.312123200Z",
     "start_time": "2025-04-15T09:20:44.139650300Z"
    }
   },
   "id": "47928cda97e23cbc"
  },
  {
   "cell_type": "code",
   "execution_count": 25,
   "outputs": [
    {
     "data": {
      "text/plain": "                                       baseline  #samples Spe > 0.70  \\\ndataset    num_stds descriptor metric                                  \nAll        5        bio        MCC     0.062779                   40   \n                               BAcc    0.519000                   40   \n                               Sen     0.991333                   40   \n                               Spe     0.046667                   40   \n                    biochem    MCC     0.048075                   40   \n...                                         ...                  ...   \nNumObjects 5        biochem    Spe     0.063333                   40   \n                    biospectra MCC     0.048446                   50   \n                               BAcc    0.514556                   50   \n                               Sen     0.984667                   50   \n                               Spe     0.044444                   50   \n\n                                       perf at Spe > 0.70  \\\ndataset    num_stds descriptor metric                       \nAll        5        bio        MCC               0.737053   \n                               BAcc              0.843970   \n                               Sen               0.964000   \n                               Spe               0.723939   \n                    biochem    MCC               0.736424   \n...                                                   ...   \nNumObjects 5        biochem    Spe               0.746061   \n                    biospectra MCC               0.613655   \n                               BAcc              0.797875   \n                               Sen               0.880000   \n                               Spe               0.715751   \n\n                                       #samples Spe > 0.80  \\\ndataset    num_stds descriptor metric                        \nAll        5        bio        MCC                      60   \n                               BAcc                     60   \n                               Sen                      60   \n                               Spe                      60   \n                    biochem    MCC                      60   \n...                                                    ...   \nNumObjects 5        biochem    Spe                      60   \n                    biospectra MCC                      70   \n                               BAcc                     70   \n                               Sen                      70   \n                               Spe                      70   \n\n                                       perf at Spe > 0.80  \\\ndataset    num_stds descriptor metric                       \nAll        5        bio        MCC               0.792553   \n                               BAcc              0.886556   \n                               Sen               0.952667   \n                               Spe               0.820444   \n                    biochem    MCC               0.786188   \n...                                                   ...   \nNumObjects 5        biochem    Spe               0.818722   \n                    biospectra MCC               0.693431   \n                               BAcc              0.842582   \n                               Sen               0.876667   \n                               Spe               0.808497   \n\n                                       #samples Spe > 0.90  \\\ndataset    num_stds descriptor metric                        \nAll        5        bio        MCC                     100   \n                               BAcc                    100   \n                               Sen                     100   \n                               Spe                     100   \n                    biochem    MCC                     100   \n...                                                    ...   \nNumObjects 5        biochem    Spe                     100   \n                    biospectra MCC                     110   \n                               BAcc                    110   \n                               Sen                     110   \n                               Spe                     110   \n\n                                       perf at Spe > 0.90  \\\ndataset    num_stds descriptor metric                       \nAll        5        bio        MCC               0.892916   \n                               BAcc              0.945539   \n                               Sen               0.960667   \n                               Spe               0.930411   \n                    biochem    MCC               0.883841   \n...                                                   ...   \nNumObjects 5        biochem    Spe               0.915024   \n                    biospectra MCC               0.761733   \n                               BAcc              0.876821   \n                               Sen               0.849333   \n                               Spe               0.904308   \n\n                                       #samples Spe > 0.95  perf at Spe > 0.95  \ndataset    num_stds descriptor metric                                           \nAll        5        bio        MCC                   130.0            0.915869  \n                               BAcc                  130.0            0.957096  \n                               Sen                   130.0            0.948000  \n                               Spe                   130.0            0.966192  \n                    biochem    MCC                   120.0            0.901973  \n...                                                    ...                 ...  \nNumObjects 5        biochem    Spe                   140.0            0.961129  \n                    biospectra MCC                   160.0            0.822556  \n                               BAcc                  160.0            0.897757  \n                               Sen                   160.0            0.827333  \n                               Spe                   160.0            0.968180  \n\n[132 rows x 9 columns]",
      "text/html": "<div>\n<style scoped>\n    .dataframe tbody tr th:only-of-type {\n        vertical-align: middle;\n    }\n\n    .dataframe tbody tr th {\n        vertical-align: top;\n    }\n\n    .dataframe thead th {\n        text-align: right;\n    }\n</style>\n<table border=\"1\" class=\"dataframe\">\n  <thead>\n    <tr style=\"text-align: right;\">\n      <th></th>\n      <th></th>\n      <th></th>\n      <th></th>\n      <th>baseline</th>\n      <th>#samples Spe &gt; 0.70</th>\n      <th>perf at Spe &gt; 0.70</th>\n      <th>#samples Spe &gt; 0.80</th>\n      <th>perf at Spe &gt; 0.80</th>\n      <th>#samples Spe &gt; 0.90</th>\n      <th>perf at Spe &gt; 0.90</th>\n      <th>#samples Spe &gt; 0.95</th>\n      <th>perf at Spe &gt; 0.95</th>\n    </tr>\n    <tr>\n      <th>dataset</th>\n      <th>num_stds</th>\n      <th>descriptor</th>\n      <th>metric</th>\n      <th></th>\n      <th></th>\n      <th></th>\n      <th></th>\n      <th></th>\n      <th></th>\n      <th></th>\n      <th></th>\n      <th></th>\n    </tr>\n  </thead>\n  <tbody>\n    <tr>\n      <th rowspan=\"5\" valign=\"top\">All</th>\n      <th rowspan=\"5\" valign=\"top\">5</th>\n      <th rowspan=\"4\" valign=\"top\">bio</th>\n      <th>MCC</th>\n      <td>0.062779</td>\n      <td>40</td>\n      <td>0.737053</td>\n      <td>60</td>\n      <td>0.792553</td>\n      <td>100</td>\n      <td>0.892916</td>\n      <td>130.0</td>\n      <td>0.915869</td>\n    </tr>\n    <tr>\n      <th>BAcc</th>\n      <td>0.519000</td>\n      <td>40</td>\n      <td>0.843970</td>\n      <td>60</td>\n      <td>0.886556</td>\n      <td>100</td>\n      <td>0.945539</td>\n      <td>130.0</td>\n      <td>0.957096</td>\n    </tr>\n    <tr>\n      <th>Sen</th>\n      <td>0.991333</td>\n      <td>40</td>\n      <td>0.964000</td>\n      <td>60</td>\n      <td>0.952667</td>\n      <td>100</td>\n      <td>0.960667</td>\n      <td>130.0</td>\n      <td>0.948000</td>\n    </tr>\n    <tr>\n      <th>Spe</th>\n      <td>0.046667</td>\n      <td>40</td>\n      <td>0.723939</td>\n      <td>60</td>\n      <td>0.820444</td>\n      <td>100</td>\n      <td>0.930411</td>\n      <td>130.0</td>\n      <td>0.966192</td>\n    </tr>\n    <tr>\n      <th>biochem</th>\n      <th>MCC</th>\n      <td>0.048075</td>\n      <td>40</td>\n      <td>0.736424</td>\n      <td>60</td>\n      <td>0.786188</td>\n      <td>100</td>\n      <td>0.883841</td>\n      <td>120.0</td>\n      <td>0.901973</td>\n    </tr>\n    <tr>\n      <th>...</th>\n      <th>...</th>\n      <th>...</th>\n      <th>...</th>\n      <td>...</td>\n      <td>...</td>\n      <td>...</td>\n      <td>...</td>\n      <td>...</td>\n      <td>...</td>\n      <td>...</td>\n      <td>...</td>\n      <td>...</td>\n    </tr>\n    <tr>\n      <th rowspan=\"5\" valign=\"top\">NumObjects</th>\n      <th rowspan=\"5\" valign=\"top\">5</th>\n      <th>biochem</th>\n      <th>Spe</th>\n      <td>0.063333</td>\n      <td>40</td>\n      <td>0.746061</td>\n      <td>60</td>\n      <td>0.818722</td>\n      <td>100</td>\n      <td>0.915024</td>\n      <td>140.0</td>\n      <td>0.961129</td>\n    </tr>\n    <tr>\n      <th rowspan=\"4\" valign=\"top\">biospectra</th>\n      <th>MCC</th>\n      <td>0.048446</td>\n      <td>50</td>\n      <td>0.613655</td>\n      <td>70</td>\n      <td>0.693431</td>\n      <td>110</td>\n      <td>0.761733</td>\n      <td>160.0</td>\n      <td>0.822556</td>\n    </tr>\n    <tr>\n      <th>BAcc</th>\n      <td>0.514556</td>\n      <td>50</td>\n      <td>0.797875</td>\n      <td>70</td>\n      <td>0.842582</td>\n      <td>110</td>\n      <td>0.876821</td>\n      <td>160.0</td>\n      <td>0.897757</td>\n    </tr>\n    <tr>\n      <th>Sen</th>\n      <td>0.984667</td>\n      <td>50</td>\n      <td>0.880000</td>\n      <td>70</td>\n      <td>0.876667</td>\n      <td>110</td>\n      <td>0.849333</td>\n      <td>160.0</td>\n      <td>0.827333</td>\n    </tr>\n    <tr>\n      <th>Spe</th>\n      <td>0.044444</td>\n      <td>50</td>\n      <td>0.715751</td>\n      <td>70</td>\n      <td>0.808497</td>\n      <td>110</td>\n      <td>0.904308</td>\n      <td>160.0</td>\n      <td>0.968180</td>\n    </tr>\n  </tbody>\n</table>\n<p>132 rows × 9 columns</p>\n</div>"
     },
     "execution_count": 25,
     "metadata": {},
     "output_type": "execute_result"
    }
   ],
   "source": [
    "ttperfs.query('num_stds == 5')"
   ],
   "metadata": {
    "collapsed": false,
    "ExecuteTime": {
     "end_time": "2025-04-15T09:20:44.425958800Z",
     "start_time": "2025-04-15T09:20:44.246413200Z"
    }
   },
   "id": "51d96f3a9fe8c0eb"
  },
  {
   "cell_type": "markdown",
   "source": [
    "Obtain Supp. Tables 7 to 10."
   ],
   "metadata": {
    "collapsed": false
   },
   "id": "29105436140f1322"
  },
  {
   "cell_type": "code",
   "execution_count": 26,
   "outputs": [
    {
     "data": {
      "text/plain": "concentration          cmax1    cmax10   cmax100    cmax25     cmax5    cmax50\nreporter timepoint                                                            \nbip      tp24       0.705715  0.345843  0.216903  0.112859  0.417224  0.102223\n         tp48       0.324726  1.654604  0.125684  0.144477  0.307734  0.159356\n         tp72       0.258872  0.290374  2.862382  0.150929  0.431828  0.376236\nbtg2     tp24       1.199834  0.540015  0.134655  0.115066  2.773389  0.745783\n         tp48       0.199320  0.843821  0.092102  0.241312  2.678558  0.181152\n         tp72       0.813219  0.189861  0.119470  0.058446  0.410295  0.105886\nchop     tp24       0.312875  0.223616  1.524237  0.523871  0.239511  0.298709\n         tp48       0.096797  0.099977  1.867967  0.217607  0.487782  2.375727\n         tp72       0.067532  0.673431  1.079659  0.444545  1.500177  0.068180\nhmox1    tp24       0.178511  1.141315  1.034693  0.140493  0.071116  0.114615\n         tp48       0.254292  0.147990  0.241638  0.126019  4.987010  0.067353\n         tp72       0.998343  0.054134  1.101262  0.055749  0.413207  0.060134\nhspa1b   tp24       0.149025  0.365433  2.440405  0.424624  0.102203  0.146549\n         tp48       0.178262  0.700808  0.372027  0.163405  0.778841  0.259291\n         tp72       0.058428  0.086747  0.400388  0.113242  0.249778  0.261841\nicam1    tp48       0.461091  1.230662  0.968427  0.529176  0.189328  0.372197\n         tp72       0.567937  4.588135  0.191737  0.094693  3.301522  0.107916\np21      tp24       0.989187  4.135165  0.416414  0.184838  0.052095  0.690360\n         tp48       0.288079  0.208255  0.134240  0.170332  0.135627  1.613405\n         tp72       0.068558  0.077518  3.296753  0.036649  3.559519  0.063303\nsrxn1    tp24       0.251003  0.180499  0.701016  0.440458  0.181545  9.249447\n         tp48       0.136826  0.180417  1.787575  0.419083  0.362565  2.201305\n         tp72       0.333469  1.685926  1.065894  0.605345  0.175980  0.347007",
      "text/html": "<div>\n<style scoped>\n    .dataframe tbody tr th:only-of-type {\n        vertical-align: middle;\n    }\n\n    .dataframe tbody tr th {\n        vertical-align: top;\n    }\n\n    .dataframe thead th {\n        text-align: right;\n    }\n</style>\n<table border=\"1\" class=\"dataframe\">\n  <thead>\n    <tr style=\"text-align: right;\">\n      <th></th>\n      <th>concentration</th>\n      <th>cmax1</th>\n      <th>cmax10</th>\n      <th>cmax100</th>\n      <th>cmax25</th>\n      <th>cmax5</th>\n      <th>cmax50</th>\n    </tr>\n    <tr>\n      <th>reporter</th>\n      <th>timepoint</th>\n      <th></th>\n      <th></th>\n      <th></th>\n      <th></th>\n      <th></th>\n      <th></th>\n    </tr>\n  </thead>\n  <tbody>\n    <tr>\n      <th rowspan=\"3\" valign=\"top\">bip</th>\n      <th>tp24</th>\n      <td>0.705715</td>\n      <td>0.345843</td>\n      <td>0.216903</td>\n      <td>0.112859</td>\n      <td>0.417224</td>\n      <td>0.102223</td>\n    </tr>\n    <tr>\n      <th>tp48</th>\n      <td>0.324726</td>\n      <td>1.654604</td>\n      <td>0.125684</td>\n      <td>0.144477</td>\n      <td>0.307734</td>\n      <td>0.159356</td>\n    </tr>\n    <tr>\n      <th>tp72</th>\n      <td>0.258872</td>\n      <td>0.290374</td>\n      <td>2.862382</td>\n      <td>0.150929</td>\n      <td>0.431828</td>\n      <td>0.376236</td>\n    </tr>\n    <tr>\n      <th rowspan=\"3\" valign=\"top\">btg2</th>\n      <th>tp24</th>\n      <td>1.199834</td>\n      <td>0.540015</td>\n      <td>0.134655</td>\n      <td>0.115066</td>\n      <td>2.773389</td>\n      <td>0.745783</td>\n    </tr>\n    <tr>\n      <th>tp48</th>\n      <td>0.199320</td>\n      <td>0.843821</td>\n      <td>0.092102</td>\n      <td>0.241312</td>\n      <td>2.678558</td>\n      <td>0.181152</td>\n    </tr>\n    <tr>\n      <th>tp72</th>\n      <td>0.813219</td>\n      <td>0.189861</td>\n      <td>0.119470</td>\n      <td>0.058446</td>\n      <td>0.410295</td>\n      <td>0.105886</td>\n    </tr>\n    <tr>\n      <th rowspan=\"3\" valign=\"top\">chop</th>\n      <th>tp24</th>\n      <td>0.312875</td>\n      <td>0.223616</td>\n      <td>1.524237</td>\n      <td>0.523871</td>\n      <td>0.239511</td>\n      <td>0.298709</td>\n    </tr>\n    <tr>\n      <th>tp48</th>\n      <td>0.096797</td>\n      <td>0.099977</td>\n      <td>1.867967</td>\n      <td>0.217607</td>\n      <td>0.487782</td>\n      <td>2.375727</td>\n    </tr>\n    <tr>\n      <th>tp72</th>\n      <td>0.067532</td>\n      <td>0.673431</td>\n      <td>1.079659</td>\n      <td>0.444545</td>\n      <td>1.500177</td>\n      <td>0.068180</td>\n    </tr>\n    <tr>\n      <th rowspan=\"3\" valign=\"top\">hmox1</th>\n      <th>tp24</th>\n      <td>0.178511</td>\n      <td>1.141315</td>\n      <td>1.034693</td>\n      <td>0.140493</td>\n      <td>0.071116</td>\n      <td>0.114615</td>\n    </tr>\n    <tr>\n      <th>tp48</th>\n      <td>0.254292</td>\n      <td>0.147990</td>\n      <td>0.241638</td>\n      <td>0.126019</td>\n      <td>4.987010</td>\n      <td>0.067353</td>\n    </tr>\n    <tr>\n      <th>tp72</th>\n      <td>0.998343</td>\n      <td>0.054134</td>\n      <td>1.101262</td>\n      <td>0.055749</td>\n      <td>0.413207</td>\n      <td>0.060134</td>\n    </tr>\n    <tr>\n      <th rowspan=\"3\" valign=\"top\">hspa1b</th>\n      <th>tp24</th>\n      <td>0.149025</td>\n      <td>0.365433</td>\n      <td>2.440405</td>\n      <td>0.424624</td>\n      <td>0.102203</td>\n      <td>0.146549</td>\n    </tr>\n    <tr>\n      <th>tp48</th>\n      <td>0.178262</td>\n      <td>0.700808</td>\n      <td>0.372027</td>\n      <td>0.163405</td>\n      <td>0.778841</td>\n      <td>0.259291</td>\n    </tr>\n    <tr>\n      <th>tp72</th>\n      <td>0.058428</td>\n      <td>0.086747</td>\n      <td>0.400388</td>\n      <td>0.113242</td>\n      <td>0.249778</td>\n      <td>0.261841</td>\n    </tr>\n    <tr>\n      <th rowspan=\"2\" valign=\"top\">icam1</th>\n      <th>tp48</th>\n      <td>0.461091</td>\n      <td>1.230662</td>\n      <td>0.968427</td>\n      <td>0.529176</td>\n      <td>0.189328</td>\n      <td>0.372197</td>\n    </tr>\n    <tr>\n      <th>tp72</th>\n      <td>0.567937</td>\n      <td>4.588135</td>\n      <td>0.191737</td>\n      <td>0.094693</td>\n      <td>3.301522</td>\n      <td>0.107916</td>\n    </tr>\n    <tr>\n      <th rowspan=\"3\" valign=\"top\">p21</th>\n      <th>tp24</th>\n      <td>0.989187</td>\n      <td>4.135165</td>\n      <td>0.416414</td>\n      <td>0.184838</td>\n      <td>0.052095</td>\n      <td>0.690360</td>\n    </tr>\n    <tr>\n      <th>tp48</th>\n      <td>0.288079</td>\n      <td>0.208255</td>\n      <td>0.134240</td>\n      <td>0.170332</td>\n      <td>0.135627</td>\n      <td>1.613405</td>\n    </tr>\n    <tr>\n      <th>tp72</th>\n      <td>0.068558</td>\n      <td>0.077518</td>\n      <td>3.296753</td>\n      <td>0.036649</td>\n      <td>3.559519</td>\n      <td>0.063303</td>\n    </tr>\n    <tr>\n      <th rowspan=\"3\" valign=\"top\">srxn1</th>\n      <th>tp24</th>\n      <td>0.251003</td>\n      <td>0.180499</td>\n      <td>0.701016</td>\n      <td>0.440458</td>\n      <td>0.181545</td>\n      <td>9.249447</td>\n    </tr>\n    <tr>\n      <th>tp48</th>\n      <td>0.136826</td>\n      <td>0.180417</td>\n      <td>1.787575</td>\n      <td>0.419083</td>\n      <td>0.362565</td>\n      <td>2.201305</td>\n    </tr>\n    <tr>\n      <th>tp72</th>\n      <td>0.333469</td>\n      <td>1.685926</td>\n      <td>1.065894</td>\n      <td>0.605345</td>\n      <td>0.175980</td>\n      <td>0.347007</td>\n    </tr>\n  </tbody>\n</table>\n</div>"
     },
     "execution_count": 26,
     "metadata": {},
     "output_type": "execute_result"
    }
   ],
   "source": [
    "importances = ((tmp := data.query('num_stds == 1 and descriptors == \"bio\" and dataset == \"All\" and variable in @bio_descs'))\n",
    "                           .assign(category=tmp.variable\n",
    "                                               .str.split('_')\n",
    "                                               .str[:3]\n",
    "                                               .str.join ('_'))\n",
    "                           .groupby(['category', 'samples added'])\n",
    "                           .value.sum()\n",
    "               )\n",
    "\n",
    "importances_ = []\n",
    "for name, group in importances.reset_index().groupby('category'):\n",
    "    auc = auc_fn(group['samples added']/250, group['value'])\n",
    "    importances_.append(pd.DataFrame([{'category': name, 'value': auc}]))\n",
    "\n",
    "importances = (pd.concat(importances_, ignore_index=True)\n",
    "                 .set_index('category'))\n",
    "importances /= importances.value.sum()\n",
    "\n",
    "importances = importances.reset_index()\n",
    "importances = (importances.assign(reporter=importances.category.str.split('_').str[0],\n",
    "                                  concentration=importances.category.str.split('_').str[1],\n",
    "                                  timepoint=importances.category.str.split('_').str[2])\n",
    "               ).drop(columns='category')\n",
    "\n",
    "importances = importances.pivot(index=['reporter', 'timepoint'], columns='concentration', values='value') * 100\n",
    "importances"
   ],
   "metadata": {
    "collapsed": false,
    "ExecuteTime": {
     "end_time": "2025-04-15T09:20:44.641478900Z",
     "start_time": "2025-04-15T09:20:44.351889600Z"
    }
   },
   "id": "d1aa74cd138447b2"
  },
  {
   "cell_type": "markdown",
   "source": [
    "Supp. Table 7."
   ],
   "metadata": {
    "collapsed": false
   },
   "id": "fb1d6fb39d9c26de"
  },
  {
   "cell_type": "code",
   "execution_count": 27,
   "outputs": [
    {
     "data": {
      "text/plain": "          total feature importance (%)\nreporter                              \nbip                           8.987968\nbtg2                         11.442186\nchop                         12.102201\nhmox1                        11.187872\nhspa1b                        7.251298\nicam1                        12.602821\np21                          16.120295\nsrxn1                        20.305358",
      "text/html": "<div>\n<style scoped>\n    .dataframe tbody tr th:only-of-type {\n        vertical-align: middle;\n    }\n\n    .dataframe tbody tr th {\n        vertical-align: top;\n    }\n\n    .dataframe thead th {\n        text-align: right;\n    }\n</style>\n<table border=\"1\" class=\"dataframe\">\n  <thead>\n    <tr style=\"text-align: right;\">\n      <th></th>\n      <th>total feature importance (%)</th>\n    </tr>\n    <tr>\n      <th>reporter</th>\n      <th></th>\n    </tr>\n  </thead>\n  <tbody>\n    <tr>\n      <th>bip</th>\n      <td>8.987968</td>\n    </tr>\n    <tr>\n      <th>btg2</th>\n      <td>11.442186</td>\n    </tr>\n    <tr>\n      <th>chop</th>\n      <td>12.102201</td>\n    </tr>\n    <tr>\n      <th>hmox1</th>\n      <td>11.187872</td>\n    </tr>\n    <tr>\n      <th>hspa1b</th>\n      <td>7.251298</td>\n    </tr>\n    <tr>\n      <th>icam1</th>\n      <td>12.602821</td>\n    </tr>\n    <tr>\n      <th>p21</th>\n      <td>16.120295</td>\n    </tr>\n    <tr>\n      <th>srxn1</th>\n      <td>20.305358</td>\n    </tr>\n  </tbody>\n</table>\n</div>"
     },
     "execution_count": 27,
     "metadata": {},
     "output_type": "execute_result"
    }
   ],
   "source": [
    "importances.reset_index(level=1).iloc[:, 1:].reset_index().groupby('reporter').agg('sum').sum(axis=1).rename('total feature importance (%)').to_frame()"
   ],
   "metadata": {
    "collapsed": false,
    "ExecuteTime": {
     "end_time": "2025-04-15T09:20:44.779042100Z",
     "start_time": "2025-04-15T09:20:44.548756200Z"
    }
   },
   "id": "67607f5926634c2e"
  },
  {
   "cell_type": "markdown",
   "source": [
    "Supp. Table 8."
   ],
   "metadata": {
    "collapsed": false
   },
   "id": "48293e93e7c3bb4"
  },
  {
   "cell_type": "code",
   "execution_count": 28,
   "outputs": [
    {
     "data": {
      "text/plain": "          importnace                    \ntimepoint       tp24      tp48      tp72\nreporter                                \nbip         1.900767  2.716581  4.370621\nbtg2        5.508742  4.236266  1.697178\nchop        3.122819  5.145857  3.833525\nhmox1       2.680743  5.824300  2.682829\nhspa1b      3.628240  2.452633  1.170425\nicam1            NaN  3.750881  8.851940\np21         6.468058  2.549938  7.102299\nsrxn1      11.003968  5.087770  4.213620",
      "text/html": "<div>\n<style scoped>\n    .dataframe tbody tr th:only-of-type {\n        vertical-align: middle;\n    }\n\n    .dataframe tbody tr th {\n        vertical-align: top;\n    }\n\n    .dataframe thead tr th {\n        text-align: left;\n    }\n\n    .dataframe thead tr:last-of-type th {\n        text-align: right;\n    }\n</style>\n<table border=\"1\" class=\"dataframe\">\n  <thead>\n    <tr>\n      <th></th>\n      <th colspan=\"3\" halign=\"left\">importnace</th>\n    </tr>\n    <tr>\n      <th>timepoint</th>\n      <th>tp24</th>\n      <th>tp48</th>\n      <th>tp72</th>\n    </tr>\n    <tr>\n      <th>reporter</th>\n      <th></th>\n      <th></th>\n      <th></th>\n    </tr>\n  </thead>\n  <tbody>\n    <tr>\n      <th>bip</th>\n      <td>1.900767</td>\n      <td>2.716581</td>\n      <td>4.370621</td>\n    </tr>\n    <tr>\n      <th>btg2</th>\n      <td>5.508742</td>\n      <td>4.236266</td>\n      <td>1.697178</td>\n    </tr>\n    <tr>\n      <th>chop</th>\n      <td>3.122819</td>\n      <td>5.145857</td>\n      <td>3.833525</td>\n    </tr>\n    <tr>\n      <th>hmox1</th>\n      <td>2.680743</td>\n      <td>5.824300</td>\n      <td>2.682829</td>\n    </tr>\n    <tr>\n      <th>hspa1b</th>\n      <td>3.628240</td>\n      <td>2.452633</td>\n      <td>1.170425</td>\n    </tr>\n    <tr>\n      <th>icam1</th>\n      <td>NaN</td>\n      <td>3.750881</td>\n      <td>8.851940</td>\n    </tr>\n    <tr>\n      <th>p21</th>\n      <td>6.468058</td>\n      <td>2.549938</td>\n      <td>7.102299</td>\n    </tr>\n    <tr>\n      <th>srxn1</th>\n      <td>11.003968</td>\n      <td>5.087770</td>\n      <td>4.213620</td>\n    </tr>\n  </tbody>\n</table>\n</div>"
     },
     "execution_count": 28,
     "metadata": {},
     "output_type": "execute_result"
    }
   ],
   "source": [
    "importances.sum(axis=1).rename('importnace').reset_index().pivot(index='reporter', columns='timepoint')"
   ],
   "metadata": {
    "collapsed": false,
    "ExecuteTime": {
     "end_time": "2025-04-15T09:20:44.809992900Z",
     "start_time": "2025-04-15T09:20:44.647593600Z"
    }
   },
   "id": "35ec882ec5ec00fa"
  },
  {
   "cell_type": "markdown",
   "source": [
    "Supp. Table 9."
   ],
   "metadata": {
    "collapsed": false
   },
   "id": "de51edc57c85cd37"
  },
  {
   "cell_type": "code",
   "execution_count": 29,
   "outputs": [
    {
     "data": {
      "text/plain": "concentration     cmax1    cmax10   cmax100    cmax25     cmax5     cmax50\nreporter                                                                  \nbip            1.289312  2.290821  3.204969  0.408265  1.156786   0.637815\nbtg2           2.212373  1.573697  0.346227  0.414824  5.862242   1.032822\nchop           0.477204  0.997025  4.471863  1.186023  2.227470   2.742616\nhmox1          1.431145  1.343439  2.377592  0.322261  5.471333   0.242102\nhspa1b         0.385715  1.152988  3.212820  0.701271  1.130822   0.667681\nicam1          1.029028  5.818796  1.160164  0.623869  3.490850   0.480114\np21            1.345824  4.420938  3.847407  0.391818  3.747240   2.367069\nsrxn1          0.721298  2.046842  3.554484  1.464885  0.720089  11.797759",
      "text/html": "<div>\n<style scoped>\n    .dataframe tbody tr th:only-of-type {\n        vertical-align: middle;\n    }\n\n    .dataframe tbody tr th {\n        vertical-align: top;\n    }\n\n    .dataframe thead th {\n        text-align: right;\n    }\n</style>\n<table border=\"1\" class=\"dataframe\">\n  <thead>\n    <tr style=\"text-align: right;\">\n      <th>concentration</th>\n      <th>cmax1</th>\n      <th>cmax10</th>\n      <th>cmax100</th>\n      <th>cmax25</th>\n      <th>cmax5</th>\n      <th>cmax50</th>\n    </tr>\n    <tr>\n      <th>reporter</th>\n      <th></th>\n      <th></th>\n      <th></th>\n      <th></th>\n      <th></th>\n      <th></th>\n    </tr>\n  </thead>\n  <tbody>\n    <tr>\n      <th>bip</th>\n      <td>1.289312</td>\n      <td>2.290821</td>\n      <td>3.204969</td>\n      <td>0.408265</td>\n      <td>1.156786</td>\n      <td>0.637815</td>\n    </tr>\n    <tr>\n      <th>btg2</th>\n      <td>2.212373</td>\n      <td>1.573697</td>\n      <td>0.346227</td>\n      <td>0.414824</td>\n      <td>5.862242</td>\n      <td>1.032822</td>\n    </tr>\n    <tr>\n      <th>chop</th>\n      <td>0.477204</td>\n      <td>0.997025</td>\n      <td>4.471863</td>\n      <td>1.186023</td>\n      <td>2.227470</td>\n      <td>2.742616</td>\n    </tr>\n    <tr>\n      <th>hmox1</th>\n      <td>1.431145</td>\n      <td>1.343439</td>\n      <td>2.377592</td>\n      <td>0.322261</td>\n      <td>5.471333</td>\n      <td>0.242102</td>\n    </tr>\n    <tr>\n      <th>hspa1b</th>\n      <td>0.385715</td>\n      <td>1.152988</td>\n      <td>3.212820</td>\n      <td>0.701271</td>\n      <td>1.130822</td>\n      <td>0.667681</td>\n    </tr>\n    <tr>\n      <th>icam1</th>\n      <td>1.029028</td>\n      <td>5.818796</td>\n      <td>1.160164</td>\n      <td>0.623869</td>\n      <td>3.490850</td>\n      <td>0.480114</td>\n    </tr>\n    <tr>\n      <th>p21</th>\n      <td>1.345824</td>\n      <td>4.420938</td>\n      <td>3.847407</td>\n      <td>0.391818</td>\n      <td>3.747240</td>\n      <td>2.367069</td>\n    </tr>\n    <tr>\n      <th>srxn1</th>\n      <td>0.721298</td>\n      <td>2.046842</td>\n      <td>3.554484</td>\n      <td>1.464885</td>\n      <td>0.720089</td>\n      <td>11.797759</td>\n    </tr>\n  </tbody>\n</table>\n</div>"
     },
     "execution_count": 29,
     "metadata": {},
     "output_type": "execute_result"
    }
   ],
   "source": [
    "importances.reset_index(level=1).iloc[:, 1:].reset_index().groupby('reporter').agg('sum')"
   ],
   "metadata": {
    "collapsed": false,
    "ExecuteTime": {
     "end_time": "2025-04-15T09:20:44.999187900Z",
     "start_time": "2025-04-15T09:20:44.754330700Z"
    }
   },
   "id": "9c518ce53af38001"
  },
  {
   "cell_type": "markdown",
   "source": [
    "Obtain Supp. Table 11."
   ],
   "metadata": {
    "collapsed": false
   },
   "id": "ea702b3d4698674a"
  },
  {
   "cell_type": "code",
   "execution_count": 30,
   "outputs": [
    {
     "data": {
      "text/plain": "                                      category     value\n0                                   AnnexinPos  0.174250\n1   CytoplasmNucleiIntegratedIntensityImageGfp  0.059486\n2         CytoplasmNucleiMeanIntensityImageGfp  0.073349\n3          DmsoIntegratedIntensityPlateLognorm  0.034517\n4                           DmsoMeanCellCounts  0.034757\n5                                    GfpDiff1i  0.010474\n6                                    GfpDiff2i  0.005004\n7                                    GfpDiff3i  0.001908\n8                                    GfpDiff4i  0.005373\n9                                     GfpNeg1i  0.008640\n10                                    GfpNeg2i  0.007374\n11                                    GfpNeg3i  0.003136\n12                                    GfpNeg4i  0.005676\n13                                    GfpPos1i  0.076508\n14                                    GfpPos2i  0.086211\n15                                    GfpPos3i  0.056194\n16                                    GfpPos4i  0.087929\n17                         ImageCountParentObj  0.078301\n18                              NormCellCounts  0.099267\n19                                       PiPos  0.091649",
      "text/html": "<div>\n<style scoped>\n    .dataframe tbody tr th:only-of-type {\n        vertical-align: middle;\n    }\n\n    .dataframe tbody tr th {\n        vertical-align: top;\n    }\n\n    .dataframe thead th {\n        text-align: right;\n    }\n</style>\n<table border=\"1\" class=\"dataframe\">\n  <thead>\n    <tr style=\"text-align: right;\">\n      <th></th>\n      <th>category</th>\n      <th>value</th>\n    </tr>\n  </thead>\n  <tbody>\n    <tr>\n      <th>0</th>\n      <td>AnnexinPos</td>\n      <td>0.174250</td>\n    </tr>\n    <tr>\n      <th>1</th>\n      <td>CytoplasmNucleiIntegratedIntensityImageGfp</td>\n      <td>0.059486</td>\n    </tr>\n    <tr>\n      <th>2</th>\n      <td>CytoplasmNucleiMeanIntensityImageGfp</td>\n      <td>0.073349</td>\n    </tr>\n    <tr>\n      <th>3</th>\n      <td>DmsoIntegratedIntensityPlateLognorm</td>\n      <td>0.034517</td>\n    </tr>\n    <tr>\n      <th>4</th>\n      <td>DmsoMeanCellCounts</td>\n      <td>0.034757</td>\n    </tr>\n    <tr>\n      <th>5</th>\n      <td>GfpDiff1i</td>\n      <td>0.010474</td>\n    </tr>\n    <tr>\n      <th>6</th>\n      <td>GfpDiff2i</td>\n      <td>0.005004</td>\n    </tr>\n    <tr>\n      <th>7</th>\n      <td>GfpDiff3i</td>\n      <td>0.001908</td>\n    </tr>\n    <tr>\n      <th>8</th>\n      <td>GfpDiff4i</td>\n      <td>0.005373</td>\n    </tr>\n    <tr>\n      <th>9</th>\n      <td>GfpNeg1i</td>\n      <td>0.008640</td>\n    </tr>\n    <tr>\n      <th>10</th>\n      <td>GfpNeg2i</td>\n      <td>0.007374</td>\n    </tr>\n    <tr>\n      <th>11</th>\n      <td>GfpNeg3i</td>\n      <td>0.003136</td>\n    </tr>\n    <tr>\n      <th>12</th>\n      <td>GfpNeg4i</td>\n      <td>0.005676</td>\n    </tr>\n    <tr>\n      <th>13</th>\n      <td>GfpPos1i</td>\n      <td>0.076508</td>\n    </tr>\n    <tr>\n      <th>14</th>\n      <td>GfpPos2i</td>\n      <td>0.086211</td>\n    </tr>\n    <tr>\n      <th>15</th>\n      <td>GfpPos3i</td>\n      <td>0.056194</td>\n    </tr>\n    <tr>\n      <th>16</th>\n      <td>GfpPos4i</td>\n      <td>0.087929</td>\n    </tr>\n    <tr>\n      <th>17</th>\n      <td>ImageCountParentObj</td>\n      <td>0.078301</td>\n    </tr>\n    <tr>\n      <th>18</th>\n      <td>NormCellCounts</td>\n      <td>0.099267</td>\n    </tr>\n    <tr>\n      <th>19</th>\n      <td>PiPos</td>\n      <td>0.091649</td>\n    </tr>\n  </tbody>\n</table>\n</div>"
     },
     "execution_count": 30,
     "metadata": {},
     "output_type": "execute_result"
    }
   ],
   "source": [
    "# Importances per maker type\n",
    "marker_importances = ((tmp := data.query('num_stds == 1 and descriptors == \"bio\" and dataset == \"All\" and variable in @bio_descs'))\n",
    "                           .assign(category=tmp.variable\n",
    "                                               .str.split('_')\n",
    "                                               .str[-1])\n",
    "                           .groupby(['category', 'samples added'])\n",
    "                           .value.sum()\n",
    "               )\n",
    "\n",
    "importances_ = []\n",
    "for name, group in marker_importances.reset_index().groupby('category'):\n",
    "    auc = auc_fn(group['samples added']/250, group['value'])\n",
    "    importances_.append(pd.DataFrame([{'category': name, 'value': auc}]))\n",
    "\n",
    "marker_importances = (pd.concat(importances_, ignore_index=True)\n",
    "                 .set_index('category'))\n",
    "marker_importances /= marker_importances.value.sum()\n",
    "\n",
    "marker_importances = marker_importances.reset_index()\n",
    "marker_importances"
   ],
   "metadata": {
    "collapsed": false,
    "ExecuteTime": {
     "end_time": "2025-04-15T09:20:45.126066500Z",
     "start_time": "2025-04-15T09:20:44.854967Z"
    }
   },
   "id": "f6477318ef4cb7a7"
  }
 ],
 "metadata": {
  "kernelspec": {
   "display_name": "Python 3",
   "language": "python",
   "name": "python3"
  },
  "language_info": {
   "codemirror_mode": {
    "name": "ipython",
    "version": 2
   },
   "file_extension": ".py",
   "mimetype": "text/x-python",
   "name": "python",
   "nbconvert_exporter": "python",
   "pygments_lexer": "ipython2",
   "version": "2.7.6"
  }
 },
 "nbformat": 4,
 "nbformat_minor": 5
}
