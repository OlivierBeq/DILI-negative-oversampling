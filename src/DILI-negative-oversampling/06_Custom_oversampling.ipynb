{
 "cells": [
  {
   "cell_type": "code",
   "execution_count": 1,
   "outputs": [],
   "source": [
    "import os.path\n",
    "\n",
    "import matplotlib.pyplot as plt\n",
    "from matplotlib import ticker\n",
    "\n",
    "plt.style.use('seaborn-v0_8-paper')\n",
    "import seaborn as sns\n",
    "\n",
    "import pickle\n",
    "\n",
    "import pandas as pd\n",
    "import numpy as np\n",
    "\n",
    "from tqdm.auto import tqdm\n",
    "\n",
    "from warnings import simplefilter\n",
    "simplefilter(action='ignore', category=FutureWarning)\n",
    "simplefilter(action='ignore', category=UserWarning)\n",
    "\n",
    "np.seterr(all='ignore')\n",
    "\n",
    "from utilities import (SamplingDistribution, evaluate_custom_oversampling, evaluate_custom_oversampling_biochem,\n",
    "                       serialize_xgboost_classifier, prepare_biospectra_inputs, make_biospectra_predictions)"
   ],
   "metadata": {
    "collapsed": false,
    "ExecuteTime": {
     "end_time": "2025-04-14T18:01:51.469062600Z",
     "start_time": "2025-04-14T18:01:46.786429Z"
    }
   },
   "id": "88f91f867e5f3274"
  },
  {
   "cell_type": "markdown",
   "source": [
    "Constants."
   ],
   "metadata": {
    "collapsed": false
   },
   "id": "dc9d8afaaba4aa1b"
  },
  {
   "cell_type": "code",
   "execution_count": 2,
   "outputs": [],
   "source": [
    "ROOT = '.'\n",
    "OUT_FOLDER = f'{ROOT}/results'\n",
    "DATA_FOLDER = f'{ROOT}/data'\n",
    "FILE = f\"{DATA_FOLDER}/Supp. File 1.xlsx\"\n",
    "ENDPOINT = 'binaryDILI'\n",
    "N_JOBS = -1"
   ],
   "metadata": {
    "collapsed": false,
    "ExecuteTime": {
     "end_time": "2025-04-14T18:01:51.477276300Z",
     "start_time": "2025-04-14T18:01:51.471062100Z"
    }
   },
   "id": "9fb771517b3e7a68"
  },
  {
   "cell_type": "markdown",
   "source": [
    "Determine the distributions to sample features of new negative molecules from. "
   ],
   "metadata": {
    "collapsed": false
   },
   "id": "f0efabb577e00a3"
  },
  {
   "cell_type": "code",
   "execution_count": 3,
   "outputs": [],
   "source": [
    "distribs = [SamplingDistribution(1, True, True),\n",
    "            SamplingDistribution(2, True, True),\n",
    "            SamplingDistribution(3, True, True),\n",
    "            SamplingDistribution(4, True, True),\n",
    "            SamplingDistribution(5, True, True)\n",
    "            ]"
   ],
   "metadata": {
    "collapsed": false,
    "ExecuteTime": {
     "end_time": "2025-04-14T18:01:51.487265600Z",
     "start_time": "2025-04-14T18:01:51.476195Z"
    }
   },
   "id": "e5cb546e2821c489"
  },
  {
   "cell_type": "markdown",
   "source": [
    "Set up the oversampling parameters."
   ],
   "metadata": {
    "collapsed": false
   },
   "id": "b00203a52061d2f3"
  },
  {
   "cell_type": "code",
   "execution_count": 4,
   "outputs": [],
   "source": [
    "ENDPOINT = 'binaryDILI'\n",
    "# Oversampling parameters\n",
    "N_OVERSAMPLING = 5 # Number of sampling rounds (default=5)\n",
    "N_FROM = 0 # Minimum number of oversampled molecules to include (default=16)\n",
    "N_TO = 251 # Maximum number of oversampled molecules to include (default=251)\n",
    "N_STEP = 10 # Incremental step of molecules to include in the oversampling (default=10, extended=1)\n",
    "N_REPEATS = 3 # Number of model fitting with different random seeds (default=3, extended=15)"
   ],
   "metadata": {
    "collapsed": false,
    "ExecuteTime": {
     "end_time": "2025-04-14T18:01:51.508024700Z",
     "start_time": "2025-04-14T18:01:51.488284600Z"
    }
   },
   "id": "3dd6a55e736f2478"
  },
  {
   "cell_type": "markdown",
   "source": [
    "Load the different data sets."
   ],
   "metadata": {
    "collapsed": false
   },
   "id": "20c87958a47acd62"
  },
  {
   "cell_type": "code",
   "execution_count": 5,
   "outputs": [],
   "source": [
    "# Load labels of the tested and complementary molecules\n",
    "original_data_labels = pd.read_excel(FILE, sheet_name='Original Dataset Labels',\n",
    "                                     usecols=['InChIKey', 'binaryDILI', 'vDILIConcern'])\n",
    "additional_data_labels = pd.read_excel(FILE, sheet_name='Additional Set MolDescs',\n",
    "                                       usecols=['InChIKey', 'binaryDILI', 'vDILIConcern'])\n",
    "original_data_labels['source'] = 'original'\n",
    "additional_data_labels['source'] = 'additional'\n",
    "labels = pd.concat([original_data_labels, additional_data_labels], axis=0)\n",
    "del original_data_labels, additional_data_labels"
   ],
   "metadata": {
    "collapsed": false,
    "ExecuteTime": {
     "end_time": "2025-04-14T18:01:53.433850400Z",
     "start_time": "2025-04-14T18:01:52.508305900Z"
    }
   },
   "id": "2685c673a854248e"
  },
  {
   "cell_type": "code",
   "execution_count": 6,
   "outputs": [],
   "source": [
    "# Load the set of features not in range\n",
    "non_normal_features = pd.read_excel(f'{OUT_FOLDER}/DILI_kept_features_in_interval_pos_neg.xlsx')\n",
    "non_normal_features = non_normal_features[non_normal_features.neg_interval_in_pos_interval == False].feature"
   ],
   "metadata": {
    "collapsed": false,
    "ExecuteTime": {
     "end_time": "2025-04-14T18:01:54.927608400Z",
     "start_time": "2025-04-14T18:01:54.798654Z"
    }
   },
   "id": "baabb30fc4bc84a6"
  },
  {
   "cell_type": "code",
   "execution_count": 7,
   "outputs": [],
   "source": [
    "# Biological descriptor of the tested molecules\n",
    "data_bio = pd.read_excel(FILE, sheet_name='Original Dataset BioDescs')\n",
    "data_bio = data_bio[data_bio.loc[:,\"Inclusion\"] == \"Included\"].drop(['Name', 'SMILES', 'Inclusion'], axis=1)\n",
    "data_bio = data_bio.drop(columns=non_normal_features)\n",
    "\n",
    "GFP_level_filter = data_bio.columns[data_bio.columns.str.contains('^.*_cmax\\d+_tp\\d+_Gfp')]\n",
    "PI_fraction_filter = data_bio.columns[data_bio.columns.str.contains('^.*_cmax\\d+_tp\\d+_Pi')]\n",
    "AnV_fraction_filter = data_bio.columns[data_bio.columns.str.contains('^.*_cmax\\d+_tp\\d+_Annexin')]\n",
    "integrated_intensity_filter = data_bio.columns[data_bio.columns.str.contains('^.*_cmax\\d+_tp\\d+_CytoplasmNucleiIntegratedIntensity')]\n",
    "mean_intensity_filter = data_bio.columns[data_bio.columns.str.contains('^.*_cmax\\d+_tp\\d+_CytoplasmNucleiMeanIntensity')]\n",
    "DMSO_filter = data_bio.columns[data_bio.columns.str.contains('^.*_cmax\\d+_tp\\d+_Dmso')]\n",
    "normcounts_filter = data_bio.columns[data_bio.columns.str.contains('^.*_cmax\\d+_tp\\d+_Norm')]\n",
    "parentobj_filter = data_bio.columns[data_bio.columns.str.contains('^.*_cmax\\d+_tp\\d+_ImageCountParentObj')]\n",
    "\n",
    "full_set_bio = labels.merge(data_bio, on='InChIKey').drop(['InChIKey', 'source'], axis=1).dropna()\n",
    "full_set_bio_Y = full_set_bio[[ENDPOINT]].values.ravel()\n",
    "full_set_bio_X = full_set_bio.drop(['vDILIConcern', 'binaryDILI'], axis=1)\n",
    "\n",
    "bio_datasets = {## All biological features\n",
    "                'All': full_set_bio.drop(['vDILIConcern', 'CMAX_uM'], axis=1),\n",
    "                # GFP features\n",
    "                'GFP': pd.concat([full_set_bio.binaryDILI, full_set_bio[GFP_level_filter]], axis=1),\n",
    "                # PI features\n",
    "                'PI': pd.concat([full_set_bio.binaryDILI, full_set_bio[PI_fraction_filter]], axis=1),\n",
    "                # AnV features\n",
    "                'AnV': pd.concat([full_set_bio.binaryDILI, full_set_bio[AnV_fraction_filter]], axis=1),\n",
    "                ## Integrated intensity features\n",
    "                'IntegratedIntensity': pd.concat([full_set_bio.binaryDILI, full_set_bio[integrated_intensity_filter]], axis=1),\n",
    "                ## Mean intensity features\n",
    "                'MeanIntensity': pd.concat([full_set_bio.binaryDILI, full_set_bio[mean_intensity_filter]], axis=1),\n",
    "                ## DMSO features\n",
    "                'DMSO': pd.concat([full_set_bio.binaryDILI, full_set_bio[DMSO_filter]], axis=1),\n",
    "                ## Normalized counts features\n",
    "                'NormCounts': pd.concat([full_set_bio.binaryDILI, full_set_bio[normcounts_filter]], axis=1),\n",
    "                ## Parent objects features\n",
    "                'NumObjects': pd.concat([full_set_bio.binaryDILI, full_set_bio[parentobj_filter]], axis=1),\n",
    "                # PI & AnV\n",
    "                'Anv-PI': pd.concat([full_set_bio.binaryDILI, full_set_bio[PI_fraction_filter], full_set_bio[AnV_fraction_filter]], axis=1),\n",
    "                # GFP & PI & AnV\n",
    "                'GFP-Anv-PI': pd.concat([full_set_bio.binaryDILI, full_set_bio[GFP_level_filter], full_set_bio[PI_fraction_filter], full_set_bio[AnV_fraction_filter]], axis=1),\n",
    "                }"
   ],
   "metadata": {
    "collapsed": false,
    "ExecuteTime": {
     "end_time": "2025-04-14T18:02:00.302433800Z",
     "start_time": "2025-04-14T18:01:55.281899900Z"
    }
   },
   "id": "68c97360c3187767"
  },
  {
   "cell_type": "code",
   "execution_count": 8,
   "outputs": [],
   "source": [
    "# Molecular descriptor of the tested molecules\n",
    "data_chem = pd.read_excel(FILE, sheet_name='Original Dataset MolDescs')\n",
    "ECFP6 = data_chem['ECFP_6'].str.extractall('(.)')[0].unstack().astype(int)\n",
    "ECFP6 = ECFP6.rename_axis(index=None, columns=None).rename(columns=lambda x: f'ECFP_6_{x+1}')\n",
    "\n",
    "data_chem = data_chem.drop(['SMILES', 'ECFP_6'], axis=1)\n",
    "data_chem = pd.concat([data_chem, ECFP6], axis=1)"
   ],
   "metadata": {
    "collapsed": false,
    "ExecuteTime": {
     "end_time": "2025-04-14T18:02:01.351316900Z",
     "start_time": "2025-04-14T18:02:00.302433800Z"
    }
   },
   "id": "388f4aa8127c481d"
  },
  {
   "cell_type": "code",
   "execution_count": 9,
   "outputs": [],
   "source": [
    "# Molecular descriptors of the complementary DILIRank non-tested molecules\n",
    "comp_data = pd.read_excel(FILE, sheet_name='Additional Set MolDescs',\n",
    "                          usecols=['InChIKey', 'binaryDILI', 'vDILIConcern', 'ALogP',\n",
    "                                   'Molecular_Weight', 'Molecular_Solubility', 'H_Count', 'C_Count',\n",
    "                                   'N_Count', 'O_Count', 'F_Count', 'S_Count', 'Cl_Count',\n",
    "                                   'Num_H_Acceptors_Lipinski', 'Num_H_Donors_Lipinski', 'JY', 'Wiener',\n",
    "                                   'CHI_V_3_P', 'CHI_V_3_C', 'ES_Sum_sCH3', 'ES_Sum_ssCH2', 'ES_Sum_dsCH',\n",
    "                                   'ES_Sum_aaCH', 'ES_Sum_sssCH', 'ES_Sum_dssC', 'ES_Sum_aasC',\n",
    "                                   'ES_Sum_aaaC', 'ES_Sum_ssssC', 'ES_Sum_sNH2', 'ES_Sum_ssNH',\n",
    "                                   'ES_Sum_aaN', 'ES_Sum_sssN', 'ES_Sum_ddsN', 'ES_Sum_sOH', 'ES_Sum_dO',\n",
    "                                   'ES_Sum_ssO', 'ES_Sum_ssS', 'Kappa_3_AM', 'PHI', 'ECFP_6'])\n",
    "ECFP6 = comp_data['ECFP_6'].str.extractall('(.)')[0].unstack().astype(int)\n",
    "ECFP6 = ECFP6.rename_axis(index=None, columns=None).rename(columns=lambda x: f'ECFP_6_{x+1}')\n",
    "\n",
    "comp_data = comp_data.drop(['ECFP_6'], axis=1)\n",
    "comp_data = pd.concat([comp_data, ECFP6], axis=1)"
   ],
   "metadata": {
    "collapsed": false,
    "ExecuteTime": {
     "end_time": "2025-04-14T18:02:02.782869300Z",
     "start_time": "2025-04-14T18:02:01.345209Z"
    }
   },
   "id": "77b761f5c9b40f2"
  },
  {
   "cell_type": "code",
   "execution_count": 10,
   "outputs": [],
   "source": [
    "# Obtain feature statistics for the tested molecules\n",
    "statistics = full_set_bio.loc[full_set_bio[ENDPOINT] == 0, :].drop(['vDILIConcern', 'binaryDILI', 'CMAX_uM'], axis=1).describe()\n",
    "statistics.loc['range', :] = statistics.loc['max', :] - statistics.loc['min', :]\n",
    "statistics.loc['normal', :] = (statistics.loc['mean', :] - statistics.loc['50%', :]) / statistics.loc['range', :]"
   ],
   "metadata": {
    "collapsed": false,
    "ExecuteTime": {
     "end_time": "2025-04-14T18:02:04.367549800Z",
     "start_time": "2025-04-14T18:02:02.784885Z"
    }
   },
   "id": "2c5c2323cb9d5750"
  },
  {
   "cell_type": "code",
   "execution_count": 11,
   "outputs": [],
   "source": [
    "data_biospectra = pd.read_excel(FILE, sheet_name='Bioactivity spectra')\n",
    "data_chem_biospectra = (data_biospectra.query('Set == \"Original set\" and Inclusion == \"Included\"')\n",
    "                                       .drop(columns=['Name', 'SMILES', 'Inclusion', 'Set']))\n",
    "data_chem_biospectra = data_chem.merge(data_chem_biospectra, on='InChIKey')"
   ],
   "metadata": {
    "collapsed": false,
    "ExecuteTime": {
     "end_time": "2025-04-14T18:03:23.412000200Z",
     "start_time": "2025-04-14T18:02:04.362414900Z"
    }
   },
   "id": "12dc4a9c854b3e3d"
  },
  {
   "cell_type": "code",
   "execution_count": 12,
   "outputs": [],
   "source": [
    "comp_data_biospectra = (data_biospectra.query('Set == \"Additional set\"')\n",
    "                                       .drop(columns=['InChIKey', 'Name', 'SMILES', 'Inclusion', 'Set'])\n",
    "                                       .reset_index(drop=True))\n",
    "comp_data_biospectra = (pd.concat((comp_data,\n",
    "                                   comp_data_biospectra.reset_index(drop=True)),\n",
    "                                  axis=1)\n",
    "                        .drop(columns='InChIKey'))"
   ],
   "metadata": {
    "collapsed": false,
    "ExecuteTime": {
     "end_time": "2025-04-14T18:03:24.388892400Z",
     "start_time": "2025-04-14T18:03:23.521715300Z"
    }
   },
   "id": "856a635342fede9d"
  },
  {
   "cell_type": "markdown",
   "source": [
    "Save the datasets to pickle files."
   ],
   "metadata": {
    "collapsed": false
   },
   "id": "fcf31f553e53bd8c"
  },
  {
   "cell_type": "code",
   "execution_count": null,
   "outputs": [],
   "source": [
    "if not any((os.path.exists(f'{DATA_FOLDER}/data_chem.pkl'),\n",
    "            os.path.exists(f'{DATA_FOLDER}/data_chem_biospectra.pkl'),\n",
    "            os.path.exists(f'{DATA_FOLDER}/statistics.pkl'),\n",
    "            os.path.exists(f'{DATA_FOLDER}/comp_data.pkl'),\n",
    "            os.path.exists(f'{DATA_FOLDER}/comp_data_biospectra.pkl'),\n",
    "            os.path.exists(f'{DATA_FOLDER}/bio_datasets.pkl'),\n",
    "            )):\n",
    "    with open(f'{DATA_FOLDER}/data_chem.pkl', 'wb') as oh:\n",
    "        pickle.dump(data_chem, oh)\n",
    "    with open(f'{DATA_FOLDER}/data_chem_biospectra.pkl', 'wb') as oh:\n",
    "        pickle.dump(data_chem_biospectra, oh)\n",
    "    with open(f'{DATA_FOLDER}/statistics.pkl', 'wb') as oh:\n",
    "        pickle.dump(statistics, oh)\n",
    "    with open(f'{DATA_FOLDER}/comp_data.pkl', 'wb') as oh:\n",
    "        pickle.dump(comp_data.drop(columns=['InChIKey']), oh)\n",
    "    with open(f'{DATA_FOLDER}/comp_data_biospectra.pkl', 'wb') as oh:\n",
    "        pickle.dump(comp_data_biospectra.drop(columns=['InChIKey']), oh)\n",
    "    with open(f'{DATA_FOLDER}/bio_datasets.pkl', 'wb') as oh:\n",
    "        pickle.dump(bio_datasets, oh)\n",
    "else:\n",
    "    with (open(fr'{DATA_FOLDER}/bio_datasets.pkl', 'rb') as fh1,\n",
    "          open(fr'{DATA_FOLDER}/statistics.pkl', 'rb') as fh2,\n",
    "          open(fr'{DATA_FOLDER}/data_chem.pkl', 'rb') as fh3,\n",
    "          open(fr'{DATA_FOLDER}/comp_data.pkl', 'rb') as fh4,\n",
    "          open(fr'{DATA_FOLDER}/data_chem_biospectra.pkl', 'rb') as fh5,\n",
    "          open(fr'{DATA_FOLDER}/comp_data_biospectra.pkl', 'rb') as fh6):\n",
    "        bio_datasets = pickle.load(fh1)\n",
    "        statistics = pickle.load(fh2)\n",
    "        data_chem = pickle.load(fh3)\n",
    "        comp_data = pickle.load(fh4)\n",
    "        data_chem_biospectra = pickle.load(fh5)\n",
    "        comp_data_biospectra = pickle.load(fh6)"
   ],
   "metadata": {
    "collapsed": false
   },
   "id": "a69dbc48bcb49cf"
  },
  {
   "cell_type": "markdown",
   "source": [
    "Perform custom oversampling."
   ],
   "metadata": {
    "collapsed": false
   },
   "id": "34f04044a6fd2421"
  },
  {
   "cell_type": "code",
   "execution_count": null,
   "outputs": [],
   "source": [
    "if not os.path.exists(f'{DATA_FOLDER}/DILI_complete_oversampling_analysis2024.feather'):\n",
    "    pbar = tqdm(total=len(bio_datasets) * 3, smoothing=0.0)\n",
    "    # Perform oversampling\n",
    "    result = []\n",
    "    for dataset_name, dataset in bio_datasets.items():\n",
    "        pbar.set_description(f'{dataset_name} bio', refresh=True)\n",
    "        # Build models based only on biological descriptors\n",
    "        cstm_os_bio = evaluate_custom_oversampling(N_OVERSAMPLING, N_FROM, N_TO, N_STEP, distribs,\n",
    "                                                   statistics,\n",
    "                                                   dataset,\n",
    "                                                   ENDPOINT, N_REPEATS, 1234, N_JOBS, True)\n",
    "        cstm_os_bio = pd.concat([pd.Series([dataset_name] * cstm_os_bio.shape[0], name='dataset'),\n",
    "                                 pd.Series(['bio'] * cstm_os_bio.shape[0], name='descriptors'),\n",
    "                                 cstm_os_bio.reset_index(drop=True)],\n",
    "                                axis=1)\n",
    "        _ = pbar.update()\n",
    "        # Build models based only on biological and molecular descriptors\n",
    "        pbar.set_description(f'{dataset_name} biochem', refresh=True)\n",
    "        cstm_os_biochem = evaluate_custom_oversampling_biochem(N_OVERSAMPLING, N_FROM, N_TO, N_STEP, distribs,\n",
    "                                                               statistics,\n",
    "                                                               dataset,\n",
    "                                                               data_chem[data_chem.InChIKey != 'AOJJSUZBOXZQNB-TZSSRYMLSA-N'].drop(columns=['InChIKey']),\n",
    "                                                               comp_data.drop(columns=['vDILIConcern']),\n",
    "                                                               ENDPOINT, N_REPEATS, 1234, N_JOBS, True)\n",
    "        cstm_os_biochem = pd.concat([pd.Series([dataset_name] * cstm_os_bio.shape[0], name='dataset'),\n",
    "                                     pd.Series(['biochem'] * cstm_os_bio.shape[0], name='descriptors'),\n",
    "                                     cstm_os_biochem.reset_index(drop=True)],\n",
    "                                    axis=1)\n",
    "        _ = pbar.update()\n",
    "        # Build models based on biological, molecular descriptors, and predicted bioactivity spectra\n",
    "        pbar.set_description(f'{dataset_name} biospectra', refresh=True)\n",
    "        cstm_os_biospectra = evaluate_custom_oversampling_biochem(N_OVERSAMPLING, N_FROM, N_TO, N_STEP, distribs,\n",
    "                                                               statistics,\n",
    "                                                               dataset,\n",
    "                                                               data_chem_biospectra[data_chem_biospectra.InChIKey != 'AOJJSUZBOXZQNB-TZSSRYMLSA-N'].drop(columns='InChIKey'),\n",
    "                                                               comp_data_biospectra.drop(columns=['vDILIConcern']),\n",
    "                                                               ENDPOINT, N_REPEATS, 1234, N_JOBS, True)\n",
    "        cstm_os_biospectra = pd.concat([pd.Series([dataset_name] * cstm_os_biospectra.shape[0], name='dataset'),\n",
    "                                     pd.Series(['biospectra'] * cstm_os_biospectra.shape[0], name='descriptors'),\n",
    "                                     cstm_os_biospectra.reset_index(drop=True)],\n",
    "                                    axis=1)\n",
    "        _ = pbar.update()\n",
    "        # Accumulate in a temporary list\n",
    "        result.append(pd.concat([cstm_os_bio, cstm_os_biochem, cstm_os_biospectra]).reset_index(drop=True))\n",
    "    \n",
    "    # Concatenate all results\n",
    "    all_results = pd.concat(result).reset_index()\n",
    "    # Serialize models\n",
    "    all_results['model'] = all_results.model.apply(serialize_xgboost_classifier)\n",
    "    # Save results (including serialized models) to a feather file\n",
    "    all_results.to_feather(f'{DATA_FOLDER}/DILI_complete_oversampling_analysis2024.feather')\n",
    "    del result\n",
    "    del all_results"
   ],
   "metadata": {
    "collapsed": false
   },
   "id": "4effe3014e30dba7"
  },
  {
   "cell_type": "markdown",
   "source": [
    "Plot the custom oversampling results."
   ],
   "metadata": {
    "collapsed": false
   },
   "id": "6438988b317e6fbb"
  },
  {
   "cell_type": "code",
   "execution_count": 14,
   "outputs": [],
   "source": [
    "# Load results obtained above.\n",
    "cstm_os_all = pd.read_feather(f'{DATA_FOLDER}/DILI_complete_oversampling_analysis2024.feather')"
   ],
   "metadata": {
    "collapsed": false,
    "ExecuteTime": {
     "end_time": "2025-04-14T18:03:41.985181900Z",
     "start_time": "2025-04-14T18:03:37.652649400Z"
    }
   },
   "id": "dc3ee62e6b85e83b"
  },
  {
   "cell_type": "code",
   "execution_count": 15,
   "outputs": [
    {
     "data": {
      "text/plain": "  0%|          | 0/11 [00:00<?, ?it/s]",
      "application/vnd.jupyter.widget-view+json": {
       "version_major": 2,
       "version_minor": 0,
       "model_id": "135b78cc94e64fa2acecfd8729fbb88a"
      }
     },
     "metadata": {},
     "output_type": "display_data"
    }
   ],
   "source": [
    "measures = ['MCC', 'Balanced Accuracy', 'Sensitivity', 'Specificity', 'AUC']\n",
    "\n",
    "with sns.axes_style('white', rc={'xtick.bottom': True, 'ytick.left': True, 'font.size': 6},):\n",
    "    colors = sns.color_palette('colorblind')\n",
    "    for dataset in tqdm(cstm_os_all.dataset.unique()):\n",
    "        for std in range(1, 6):\n",
    "            fig=plt.figure(figsize=(6,10))\n",
    "            axes = fig.subplots(5, 3, sharey=False, sharex=False)\n",
    "            for i_column, descriptor in enumerate(['bio', 'biochem', 'biospectra']):\n",
    "                mean_cstm_os_bio = (cstm_os_all.query(f'descriptors == \"{descriptor}\" and dataset == \"{dataset}\" and num_stds == {std}')\n",
    "                                               .drop(['0:1', 'F1', 'AUC 0'], axis=1)\n",
    "                                               .rename(columns={'AUC 1': 'AUC', 'Acc' : 'Accuracy',\n",
    "                                                                'BAcc' : 'Balanced Accuracy', 'Sen' : 'Sensitivity',\n",
    "                                                                'Spe' : 'Specificity'})\n",
    "                                               .groupby(['samples added'], as_index=False)\n",
    "                                               .agg({'MCC':['mean', 'std'], 'Accuracy':['mean', 'std'],\n",
    "                                                     'Balanced Accuracy':['mean', 'std'], 'Sensitivity':['mean', 'std'],\n",
    "                                                     'Specificity':['mean', 'std'], 'NPV':['mean', 'std'],\n",
    "                                                     'PPV':['mean', 'std'], 'AUC':['mean', 'std']})\n",
    "                                    )\n",
    "                if mean_cstm_os_bio.empty:\n",
    "                    continue\n",
    "                mean_cstm_os_bio.columns = [f'{x} {y}' if len(y) else x for x,y in mean_cstm_os_bio.columns]\n",
    "                mean_cstm_os_bio = mean_cstm_os_bio.melt(id_vars=['samples added'])\n",
    "\n",
    "                mean_cstm_os_bio = pd.concat((mean_cstm_os_bio.iloc[:, 0],\n",
    "                                              pd.DataFrame(mean_cstm_os_bio.variable.str.replace('Balanced Accuracy', 'Balanced_Accuracy').str.split(' ').tolist(),\n",
    "                                                           columns=['variable_0', 'variable_1']),\n",
    "                                              mean_cstm_os_bio.iloc[:, 2:]), axis=1).replace('Balanced_Accuracy', 'Balanced Accuracy')\n",
    "                plot_cstm_os_bio = mean_cstm_os_bio.pivot_table(index=['samples added', 'variable_0'], columns='variable_1')\n",
    "                plot_cstm_os_bio.columns = plot_cstm_os_bio.columns.droplevel().rename(None)\n",
    "                plot_cstm_os_bio= plot_cstm_os_bio.reset_index().rename(columns={'variable_0':'measure'})\n",
    "                plot_cstm_os_bio['min'] = plot_cstm_os_bio['mean'] - plot_cstm_os_bio['std']\n",
    "                plot_cstm_os_bio['max'] = plot_cstm_os_bio['mean'] + plot_cstm_os_bio['std']\n",
    "                for ax, (i_measure, measure), color in zip(axes[:, i_column], enumerate(measures), colors):\n",
    "                    _ = sns.lineplot(x='samples added', y='mean', color=color,\n",
    "                                 data=plot_cstm_os_bio.loc[plot_cstm_os_bio['measure'] == measure, :],\n",
    "                                ax=ax,\n",
    "                                linewidth = 0.5)\n",
    "                    _ = ax.fill_between(x=plot_cstm_os_bio.loc[plot_cstm_os_bio['measure'] == measure, 'samples added'],\n",
    "                                    y1=plot_cstm_os_bio.loc[plot_cstm_os_bio['measure'] == measure, 'min'],\n",
    "                                    y2=plot_cstm_os_bio.loc[plot_cstm_os_bio['measure'] == measure, 'max'],\n",
    "                                    color=color,\n",
    "                                    edgecolor='none',\n",
    "                                    alpha=0.3\n",
    "                                   )\n",
    "                    _ = ax.xaxis.set_major_locator(ticker.MultipleLocator(base=100))\n",
    "                    _ = ax.xaxis.set_minor_locator(ticker.MultipleLocator(base=25))\n",
    "                    _ = ax.yaxis.set_major_locator(ticker.MultipleLocator(base=0.5))\n",
    "                    _ = ax.yaxis.set_minor_locator(ticker.MultipleLocator(base=0.1))\n",
    "                    _ = ax.yaxis.set_major_formatter(ticker.ScalarFormatter())\n",
    "                    xlabel, ylabel, title = '', '', ''\n",
    "\n",
    "                    if i_measure == len(measures) - 1 and i_column == 1:\n",
    "                        xlabel='Additional negative compounds'\n",
    "                    elif i_column == 0:\n",
    "                        ylabel=measure\n",
    "                        if i_measure == 0:\n",
    "                            title = descriptor\n",
    "                    elif i_measure == 0:\n",
    "                        title = descriptor\n",
    "                    _ = ax.set(xlabel=xlabel, ylabel=ylabel, title=title)\n",
    "                    if i_column > 0:\n",
    "                        _ = ax.set_yticklabels([])\n",
    "                    _ = ax.set_ylim(0,1.09)\n",
    "                    _ = ax.set_xlim(0,250)\n",
    "                    _ = ax.tick_params(axis='y', which='minor', length=3)\n",
    "                    _ = ax.tick_params(axis='x', which='minor', length=3)\n",
    "                    for ytick in ax.get_yticklines():\n",
    "                        _ = ytick.set_color('grey')\n",
    "            _ = fig.suptitle(f\"{dataset} {std} std\")\n",
    "            plt.subplots_adjust(wspace=0.05)\n",
    "            fig.savefig(fr'{OUT_FOLDER}/{dataset}_{std}_std.svg')\n",
    "            plt.close()"
   ],
   "metadata": {
    "collapsed": false,
    "ExecuteTime": {
     "end_time": "2025-04-14T18:04:30.461188Z",
     "start_time": "2025-04-14T18:03:45.647195300Z"
    }
   },
   "id": "50d0f4153e09b987"
  },
  {
   "cell_type": "markdown",
   "source": [
    "Determine the minimum number of negative sample to be added to reach a given specificity. "
   ],
   "metadata": {
    "collapsed": false
   },
   "id": "a2c8be9ea27f8aac"
  },
  {
   "cell_type": "code",
   "execution_count": 17,
   "outputs": [
    {
     "data": {
      "text/plain": "  0%|          | 0/11 [00:00<?, ?it/s]",
      "application/vnd.jupyter.widget-view+json": {
       "version_major": 2,
       "version_minor": 0,
       "model_id": "669035f8fec14dd7979e8c740790b86e"
      }
     },
     "metadata": {},
     "output_type": "display_data"
    }
   ],
   "source": [
    "if not os.path.exists(f'{OUT_FOLDER}/Analysis_DILI_num_samples_to_high_specificity.feather'):\n",
    "    ttperfs = []\n",
    "    for dataset in tqdm(['All', 'AnV', 'AnV-PI', 'GFP', 'GFP-AnV-PI', 'PI',\n",
    "                         'IntegratedIntensity', 'MeanIntensity', 'DMSO', 'NormCounts', 'NumObjects']):\n",
    "        for std in range(1,6):\n",
    "            ttperf = []\n",
    "            for descriptor in ['bio', 'biochem', 'biospectra']:\n",
    "                tmp = cstm_os_all.query(f'descriptors == \"{descriptor}\" and dataset == \"{dataset}\" and num_stds == {std}')\n",
    "                tmp = tmp.groupby('samples added').agg({'MCC': 'mean', 'BAcc': 'mean', 'Sen': 'mean', 'Spe': 'mean'})\n",
    "                if tmp.empty or len(tmp) < 10:\n",
    "                    continue\n",
    "                # Baseline performance\n",
    "                baseline_perf = tmp[tmp.index == tmp.index.min()].reset_index(drop=True).T.squeeze()\n",
    "                # Performance at thresholds and number of additional negative samples\n",
    "                num_spe70 = tmp[tmp.Spe > 0.70].iloc[:1].index\n",
    "                num_spe70 = np.nan if num_spe70.empty else num_spe70.item()\n",
    "                perf_spe70 = tmp[tmp.Spe > 0.70].iloc[:1].reset_index(drop=True).T.squeeze()\n",
    "                if perf_spe70.empty:\n",
    "                    perf_spe70 = pd.Series([None] * 4, index=['MCC', 'BAcc', 'Sen', 'Spe'])\n",
    "                num_spe80 = tmp[tmp.Spe > 0.80].iloc[:1].index\n",
    "                num_spe80 = np.nan if num_spe80.empty else num_spe80.item()\n",
    "                perf_spe80 = tmp[tmp.Spe > 0.80].iloc[:1].reset_index(drop=True).T.squeeze()\n",
    "                if perf_spe80.empty:\n",
    "                    perf_spe80 = pd.Series([None] * 4, index=['MCC', 'BAcc', 'Sen', 'Spe'])\n",
    "                num_spe90 = tmp[tmp.Spe > 0.90].iloc[:1].index\n",
    "                num_spe90 = np.nan if num_spe90.empty else num_spe90.item()\n",
    "                perf_spe90 = tmp[tmp.Spe > 0.90].iloc[:1].reset_index(drop=True).T.squeeze()\n",
    "                if perf_spe90.empty:\n",
    "                    perf_spe90 = pd.Series([None] * 4, index=['MCC', 'BAcc', 'Sen', 'Spe'])\n",
    "                num_spe95 = tmp[tmp.Spe > 0.95].iloc[:1].index\n",
    "                num_spe95 = np.nan if num_spe95.empty else num_spe95.item()\n",
    "                perf_spe95 = tmp[tmp.Spe > 0.95].iloc[:1].reset_index(drop=True).T.squeeze()\n",
    "                if perf_spe95.empty:\n",
    "                    perf_spe95 = pd.Series([None] * 4, index=['MCC', 'BAcc', 'Sen', 'Spe'])\n",
    "                # Combine\n",
    "                combined = (pd.concat((baseline_perf.rename('baseline').reset_index(drop=True),\n",
    "                                       pd.Series([num_spe70] * 4, name='#samples Spe > 0.70'), perf_spe70.rename('perf at Spe > 0.70').reset_index(drop=True),\n",
    "                                       pd.Series([num_spe80] * 4, name='#samples Spe > 0.80'), perf_spe80.rename('perf at Spe > 0.80').reset_index(drop=True),\n",
    "                                       pd.Series([num_spe90] * 4, name='#samples Spe > 0.90'), perf_spe90.rename('perf at Spe > 0.90').reset_index(drop=True),\n",
    "                                       pd.Series([num_spe95] * 4, name='#samples Spe > 0.95'), perf_spe95.rename('perf at Spe > 0.95').reset_index(drop=True)),\n",
    "                                      axis=1)\n",
    "                              .set_index(pd.MultiIndex.from_tuples([(dataset, std, descriptor, metric)\n",
    "                                                                    for metric in baseline_perf.index],\n",
    "                                                                   names=[\"dataset\", \"num_stds\", \"descriptor\", \"metric\"]))\n",
    "                            )\n",
    "                ttperf.append(combined)\n",
    "            ttperfs.extend(ttperf)\n",
    "    \n",
    "    ttperfs = pd.concat(ttperfs)\n",
    "    ttperfs.to_feather(f'{OUT_FOLDER}/Analysis_DILI_num_samples_to_high_specificity.feather')"
   ],
   "metadata": {
    "collapsed": false,
    "ExecuteTime": {
     "end_time": "2025-04-14T18:05:12.899924300Z",
     "start_time": "2025-04-14T18:05:08.596713800Z"
    }
   },
   "id": "5f04e397b23e4a23"
  }
 ],
 "metadata": {
  "kernelspec": {
   "display_name": "Python 3",
   "language": "python",
   "name": "python3"
  },
  "language_info": {
   "codemirror_mode": {
    "name": "ipython",
    "version": 2
   },
   "file_extension": ".py",
   "mimetype": "text/x-python",
   "name": "python",
   "nbconvert_exporter": "python",
   "pygments_lexer": "ipython2",
   "version": "2.7.6"
  }
 },
 "nbformat": 4,
 "nbformat_minor": 5
}
